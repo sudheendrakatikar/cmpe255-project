{
  "nbformat": 4,
  "nbformat_minor": 0,
  "metadata": {
    "colab": {
      "name": "data_visualisation_yearwise.ipynb",
      "provenance": [],
      "authorship_tag": "ABX9TyP8YbKp7Fyo1e81bFcPBYiF",
      "include_colab_link": true
    },
    "kernelspec": {
      "name": "python3",
      "display_name": "Python 3"
    },
    "language_info": {
      "name": "python"
    }
  },
  "cells": [
    {
      "cell_type": "markdown",
      "metadata": {
        "id": "view-in-github",
        "colab_type": "text"
      },
      "source": [
        "<a href=\"https://colab.research.google.com/github/sudheendrakatikar/cmpe255-project-team1/blob/main/data_visualisation_yearwise.ipynb\" target=\"_parent\"><img src=\"https://colab.research.google.com/assets/colab-badge.svg\" alt=\"Open In Colab\"/></a>"
      ]
    },
    {
      "cell_type": "code",
      "metadata": {
        "colab": {
          "base_uri": "https://localhost:8080/"
        },
        "id": "LPyjSYjMqin9",
        "outputId": "c033c752-eb64-4072-e20f-a8df1389d814"
      },
      "source": [
        "from google.colab import drive\n",
        "drive.mount('/content/drive')"
      ],
      "execution_count": 1,
      "outputs": [
        {
          "output_type": "stream",
          "name": "stdout",
          "text": [
            "Mounted at /content/drive\n"
          ]
        }
      ]
    },
    {
      "cell_type": "markdown",
      "metadata": {
        "id": "s2_Uz1Fzrlk0"
      },
      "source": [
        "#### Loading data "
      ]
    },
    {
      "cell_type": "code",
      "metadata": {
        "colab": {
          "base_uri": "https://localhost:8080/",
          "height": 504
        },
        "id": "5q5x8uPdq699",
        "outputId": "7547e0b1-e479-424c-e938-3f8abfa66805"
      },
      "source": [
        "import pandas as pd\n",
        "data=pd.read_csv('/content/drive/Shareddrives/CMPE_255/255_Project/motor_vehicle_collisions_crashes.csv')\n",
        "data.head(5)"
      ],
      "execution_count": 36,
      "outputs": [
        {
          "output_type": "stream",
          "name": "stderr",
          "text": [
            "/usr/local/lib/python3.7/dist-packages/IPython/core/interactiveshell.py:2718: DtypeWarning: Columns (3) have mixed types.Specify dtype option on import or set low_memory=False.\n",
            "  interactivity=interactivity, compiler=compiler, result=result)\n"
          ]
        },
        {
          "output_type": "execute_result",
          "data": {
            "text/html": [
              "<div>\n",
              "<style scoped>\n",
              "    .dataframe tbody tr th:only-of-type {\n",
              "        vertical-align: middle;\n",
              "    }\n",
              "\n",
              "    .dataframe tbody tr th {\n",
              "        vertical-align: top;\n",
              "    }\n",
              "\n",
              "    .dataframe thead th {\n",
              "        text-align: right;\n",
              "    }\n",
              "</style>\n",
              "<table border=\"1\" class=\"dataframe\">\n",
              "  <thead>\n",
              "    <tr style=\"text-align: right;\">\n",
              "      <th></th>\n",
              "      <th>CRASH DATE</th>\n",
              "      <th>CRASH TIME</th>\n",
              "      <th>BOROUGH</th>\n",
              "      <th>ZIP CODE</th>\n",
              "      <th>LATITUDE</th>\n",
              "      <th>LONGITUDE</th>\n",
              "      <th>LOCATION</th>\n",
              "      <th>ON STREET NAME</th>\n",
              "      <th>CROSS STREET NAME</th>\n",
              "      <th>OFF STREET NAME</th>\n",
              "      <th>NUMBER OF PERSONS INJURED</th>\n",
              "      <th>NUMBER OF PERSONS KILLED</th>\n",
              "      <th>NUMBER OF PEDESTRIANS INJURED</th>\n",
              "      <th>NUMBER OF PEDESTRIANS KILLED</th>\n",
              "      <th>NUMBER OF CYCLIST INJURED</th>\n",
              "      <th>NUMBER OF CYCLIST KILLED</th>\n",
              "      <th>NUMBER OF MOTORIST INJURED</th>\n",
              "      <th>NUMBER OF MOTORIST KILLED</th>\n",
              "      <th>CONTRIBUTING FACTOR VEHICLE 1</th>\n",
              "      <th>CONTRIBUTING FACTOR VEHICLE 2</th>\n",
              "      <th>CONTRIBUTING FACTOR VEHICLE 3</th>\n",
              "      <th>CONTRIBUTING FACTOR VEHICLE 4</th>\n",
              "      <th>CONTRIBUTING FACTOR VEHICLE 5</th>\n",
              "      <th>COLLISION_ID</th>\n",
              "      <th>VEHICLE TYPE CODE 1</th>\n",
              "      <th>VEHICLE TYPE CODE 2</th>\n",
              "      <th>VEHICLE TYPE CODE 3</th>\n",
              "      <th>VEHICLE TYPE CODE 4</th>\n",
              "      <th>VEHICLE TYPE CODE 5</th>\n",
              "    </tr>\n",
              "  </thead>\n",
              "  <tbody>\n",
              "    <tr>\n",
              "      <th>0</th>\n",
              "      <td>04/14/2021</td>\n",
              "      <td>5:32</td>\n",
              "      <td>NaN</td>\n",
              "      <td>NaN</td>\n",
              "      <td>NaN</td>\n",
              "      <td>NaN</td>\n",
              "      <td>NaN</td>\n",
              "      <td>BRONX WHITESTONE BRIDGE</td>\n",
              "      <td>NaN</td>\n",
              "      <td>NaN</td>\n",
              "      <td>0.0</td>\n",
              "      <td>0.0</td>\n",
              "      <td>0</td>\n",
              "      <td>0</td>\n",
              "      <td>0</td>\n",
              "      <td>0</td>\n",
              "      <td>0</td>\n",
              "      <td>0</td>\n",
              "      <td>Following Too Closely</td>\n",
              "      <td>Unspecified</td>\n",
              "      <td>NaN</td>\n",
              "      <td>NaN</td>\n",
              "      <td>NaN</td>\n",
              "      <td>4407480</td>\n",
              "      <td>Sedan</td>\n",
              "      <td>Sedan</td>\n",
              "      <td>NaN</td>\n",
              "      <td>NaN</td>\n",
              "      <td>NaN</td>\n",
              "    </tr>\n",
              "    <tr>\n",
              "      <th>1</th>\n",
              "      <td>04/13/2021</td>\n",
              "      <td>21:35</td>\n",
              "      <td>BROOKLYN</td>\n",
              "      <td>11217</td>\n",
              "      <td>40.68358</td>\n",
              "      <td>-73.97617</td>\n",
              "      <td>(40.68358, -73.97617)</td>\n",
              "      <td>NaN</td>\n",
              "      <td>NaN</td>\n",
              "      <td>620       ATLANTIC AVENUE</td>\n",
              "      <td>1.0</td>\n",
              "      <td>0.0</td>\n",
              "      <td>1</td>\n",
              "      <td>0</td>\n",
              "      <td>0</td>\n",
              "      <td>0</td>\n",
              "      <td>0</td>\n",
              "      <td>0</td>\n",
              "      <td>Unspecified</td>\n",
              "      <td>NaN</td>\n",
              "      <td>NaN</td>\n",
              "      <td>NaN</td>\n",
              "      <td>NaN</td>\n",
              "      <td>4407147</td>\n",
              "      <td>Sedan</td>\n",
              "      <td>NaN</td>\n",
              "      <td>NaN</td>\n",
              "      <td>NaN</td>\n",
              "      <td>NaN</td>\n",
              "    </tr>\n",
              "    <tr>\n",
              "      <th>2</th>\n",
              "      <td>04/15/2021</td>\n",
              "      <td>16:15</td>\n",
              "      <td>NaN</td>\n",
              "      <td>NaN</td>\n",
              "      <td>NaN</td>\n",
              "      <td>NaN</td>\n",
              "      <td>NaN</td>\n",
              "      <td>HUTCHINSON RIVER PARKWAY</td>\n",
              "      <td>NaN</td>\n",
              "      <td>NaN</td>\n",
              "      <td>0.0</td>\n",
              "      <td>0.0</td>\n",
              "      <td>0</td>\n",
              "      <td>0</td>\n",
              "      <td>0</td>\n",
              "      <td>0</td>\n",
              "      <td>0</td>\n",
              "      <td>0</td>\n",
              "      <td>Pavement Slippery</td>\n",
              "      <td>NaN</td>\n",
              "      <td>NaN</td>\n",
              "      <td>NaN</td>\n",
              "      <td>NaN</td>\n",
              "      <td>4407665</td>\n",
              "      <td>Station Wagon/Sport Utility Vehicle</td>\n",
              "      <td>NaN</td>\n",
              "      <td>NaN</td>\n",
              "      <td>NaN</td>\n",
              "      <td>NaN</td>\n",
              "    </tr>\n",
              "    <tr>\n",
              "      <th>3</th>\n",
              "      <td>04/13/2021</td>\n",
              "      <td>16:00</td>\n",
              "      <td>BROOKLYN</td>\n",
              "      <td>11222</td>\n",
              "      <td>NaN</td>\n",
              "      <td>NaN</td>\n",
              "      <td>NaN</td>\n",
              "      <td>VANDERVORT AVENUE</td>\n",
              "      <td>ANTHONY STREET</td>\n",
              "      <td>NaN</td>\n",
              "      <td>0.0</td>\n",
              "      <td>0.0</td>\n",
              "      <td>0</td>\n",
              "      <td>0</td>\n",
              "      <td>0</td>\n",
              "      <td>0</td>\n",
              "      <td>0</td>\n",
              "      <td>0</td>\n",
              "      <td>Following Too Closely</td>\n",
              "      <td>Unspecified</td>\n",
              "      <td>NaN</td>\n",
              "      <td>NaN</td>\n",
              "      <td>NaN</td>\n",
              "      <td>4407811</td>\n",
              "      <td>Sedan</td>\n",
              "      <td>NaN</td>\n",
              "      <td>NaN</td>\n",
              "      <td>NaN</td>\n",
              "      <td>NaN</td>\n",
              "    </tr>\n",
              "    <tr>\n",
              "      <th>4</th>\n",
              "      <td>04/12/2021</td>\n",
              "      <td>8:25</td>\n",
              "      <td>NaN</td>\n",
              "      <td>NaN</td>\n",
              "      <td>0.00000</td>\n",
              "      <td>0.00000</td>\n",
              "      <td>(0.0, 0.0)</td>\n",
              "      <td>EDSON AVENUE</td>\n",
              "      <td>NaN</td>\n",
              "      <td>NaN</td>\n",
              "      <td>0.0</td>\n",
              "      <td>0.0</td>\n",
              "      <td>0</td>\n",
              "      <td>0</td>\n",
              "      <td>0</td>\n",
              "      <td>0</td>\n",
              "      <td>0</td>\n",
              "      <td>0</td>\n",
              "      <td>Unspecified</td>\n",
              "      <td>Unspecified</td>\n",
              "      <td>NaN</td>\n",
              "      <td>NaN</td>\n",
              "      <td>NaN</td>\n",
              "      <td>4406885</td>\n",
              "      <td>Station Wagon/Sport Utility Vehicle</td>\n",
              "      <td>Sedan</td>\n",
              "      <td>NaN</td>\n",
              "      <td>NaN</td>\n",
              "      <td>NaN</td>\n",
              "    </tr>\n",
              "  </tbody>\n",
              "</table>\n",
              "</div>"
            ],
            "text/plain": [
              "   CRASH DATE CRASH TIME  ... VEHICLE TYPE CODE 4 VEHICLE TYPE CODE 5\n",
              "0  04/14/2021       5:32  ...                 NaN                 NaN\n",
              "1  04/13/2021      21:35  ...                 NaN                 NaN\n",
              "2  04/15/2021      16:15  ...                 NaN                 NaN\n",
              "3  04/13/2021      16:00  ...                 NaN                 NaN\n",
              "4  04/12/2021       8:25  ...                 NaN                 NaN\n",
              "\n",
              "[5 rows x 29 columns]"
            ]
          },
          "metadata": {},
          "execution_count": 36
        }
      ]
    },
    {
      "cell_type": "code",
      "metadata": {
        "colab": {
          "base_uri": "https://localhost:8080/"
        },
        "id": "lW5CbTAbsBEQ",
        "outputId": "868c0d14-63f9-41a7-f7c8-6e8cb1df0786"
      },
      "source": [
        "data.info()"
      ],
      "execution_count": 37,
      "outputs": [
        {
          "output_type": "stream",
          "name": "stdout",
          "text": [
            "<class 'pandas.core.frame.DataFrame'>\n",
            "RangeIndex: 1823537 entries, 0 to 1823536\n",
            "Data columns (total 29 columns):\n",
            " #   Column                         Dtype  \n",
            "---  ------                         -----  \n",
            " 0   CRASH DATE                     object \n",
            " 1   CRASH TIME                     object \n",
            " 2   BOROUGH                        object \n",
            " 3   ZIP CODE                       object \n",
            " 4   LATITUDE                       float64\n",
            " 5   LONGITUDE                      float64\n",
            " 6   LOCATION                       object \n",
            " 7   ON STREET NAME                 object \n",
            " 8   CROSS STREET NAME              object \n",
            " 9   OFF STREET NAME                object \n",
            " 10  NUMBER OF PERSONS INJURED      float64\n",
            " 11  NUMBER OF PERSONS KILLED       float64\n",
            " 12  NUMBER OF PEDESTRIANS INJURED  int64  \n",
            " 13  NUMBER OF PEDESTRIANS KILLED   int64  \n",
            " 14  NUMBER OF CYCLIST INJURED      int64  \n",
            " 15  NUMBER OF CYCLIST KILLED       int64  \n",
            " 16  NUMBER OF MOTORIST INJURED     int64  \n",
            " 17  NUMBER OF MOTORIST KILLED      int64  \n",
            " 18  CONTRIBUTING FACTOR VEHICLE 1  object \n",
            " 19  CONTRIBUTING FACTOR VEHICLE 2  object \n",
            " 20  CONTRIBUTING FACTOR VEHICLE 3  object \n",
            " 21  CONTRIBUTING FACTOR VEHICLE 4  object \n",
            " 22  CONTRIBUTING FACTOR VEHICLE 5  object \n",
            " 23  COLLISION_ID                   int64  \n",
            " 24  VEHICLE TYPE CODE 1            object \n",
            " 25  VEHICLE TYPE CODE 2            object \n",
            " 26  VEHICLE TYPE CODE 3            object \n",
            " 27  VEHICLE TYPE CODE 4            object \n",
            " 28  VEHICLE TYPE CODE 5            object \n",
            "dtypes: float64(4), int64(7), object(18)\n",
            "memory usage: 403.5+ MB\n"
          ]
        }
      ]
    },
    {
      "cell_type": "markdown",
      "metadata": {
        "id": "bmmJGJQqsQhw"
      },
      "source": [
        "From this we can say that there are 29 columns and 1823537 rows in our data."
      ]
    },
    {
      "cell_type": "code",
      "metadata": {
        "id": "zufDTGX6sbjh",
        "colab": {
          "base_uri": "https://localhost:8080/"
        },
        "outputId": "d33e2cef-a5b2-41e8-d2f7-7dd7fab04faa"
      },
      "source": [
        "data.isnull().sum()"
      ],
      "execution_count": 38,
      "outputs": [
        {
          "output_type": "execute_result",
          "data": {
            "text/plain": [
              "CRASH DATE                             0\n",
              "CRASH TIME                             0\n",
              "BOROUGH                           562783\n",
              "ZIP CODE                          563002\n",
              "LATITUDE                          213787\n",
              "LONGITUDE                         213787\n",
              "LOCATION                          213787\n",
              "ON STREET NAME                    371730\n",
              "CROSS STREET NAME                 652865\n",
              "OFF STREET NAME                  1544176\n",
              "NUMBER OF PERSONS INJURED             18\n",
              "NUMBER OF PERSONS KILLED              31\n",
              "NUMBER OF PEDESTRIANS INJURED          0\n",
              "NUMBER OF PEDESTRIANS KILLED           0\n",
              "NUMBER OF CYCLIST INJURED              0\n",
              "NUMBER OF CYCLIST KILLED               0\n",
              "NUMBER OF MOTORIST INJURED             0\n",
              "NUMBER OF MOTORIST KILLED              0\n",
              "CONTRIBUTING FACTOR VEHICLE 1       5205\n",
              "CONTRIBUTING FACTOR VEHICLE 2     262800\n",
              "CONTRIBUTING FACTOR VEHICLE 3    1699094\n",
              "CONTRIBUTING FACTOR VEHICLE 4    1796391\n",
              "CONTRIBUTING FACTOR VEHICLE 5    1816356\n",
              "COLLISION_ID                           0\n",
              "VEHICLE TYPE CODE 1                 9887\n",
              "VEHICLE TYPE CODE 2               311336\n",
              "VEHICLE TYPE CODE 3              1702736\n",
              "VEHICLE TYPE CODE 4              1797199\n",
              "VEHICLE TYPE CODE 5              1816552\n",
              "dtype: int64"
            ]
          },
          "metadata": {},
          "execution_count": 38
        }
      ]
    },
    {
      "cell_type": "markdown",
      "source": [
        "We have lot of null data in some columns so we are dropping those columns."
      ],
      "metadata": {
        "id": "BzrzRSwoncRi"
      }
    },
    {
      "cell_type": "code",
      "metadata": {
        "id": "RJezsUQL4gQq"
      },
      "source": [
        "data=data.drop(columns=['VEHICLE TYPE CODE 5','VEHICLE TYPE CODE 4','VEHICLE TYPE CODE 3','CROSS STREET NAME','VEHICLE TYPE CODE 2','VEHICLE TYPE CODE 1','CONTRIBUTING FACTOR VEHICLE 5','CONTRIBUTING FACTOR VEHICLE 4','CONTRIBUTING FACTOR VEHICLE 3','OFF STREET NAME','CONTRIBUTING FACTOR VEHICLE 1','CONTRIBUTING FACTOR VEHICLE 2',])"
      ],
      "execution_count": 39,
      "outputs": []
    },
    {
      "cell_type": "code",
      "source": [
        "data.info()"
      ],
      "metadata": {
        "colab": {
          "base_uri": "https://localhost:8080/"
        },
        "id": "l5p9FBtvn6-q",
        "outputId": "9899e0f6-7f84-413b-f71b-b0bb4f5aa396"
      },
      "execution_count": 40,
      "outputs": [
        {
          "output_type": "stream",
          "name": "stdout",
          "text": [
            "<class 'pandas.core.frame.DataFrame'>\n",
            "RangeIndex: 1823537 entries, 0 to 1823536\n",
            "Data columns (total 17 columns):\n",
            " #   Column                         Dtype  \n",
            "---  ------                         -----  \n",
            " 0   CRASH DATE                     object \n",
            " 1   CRASH TIME                     object \n",
            " 2   BOROUGH                        object \n",
            " 3   ZIP CODE                       object \n",
            " 4   LATITUDE                       float64\n",
            " 5   LONGITUDE                      float64\n",
            " 6   LOCATION                       object \n",
            " 7   ON STREET NAME                 object \n",
            " 8   NUMBER OF PERSONS INJURED      float64\n",
            " 9   NUMBER OF PERSONS KILLED       float64\n",
            " 10  NUMBER OF PEDESTRIANS INJURED  int64  \n",
            " 11  NUMBER OF PEDESTRIANS KILLED   int64  \n",
            " 12  NUMBER OF CYCLIST INJURED      int64  \n",
            " 13  NUMBER OF CYCLIST KILLED       int64  \n",
            " 14  NUMBER OF MOTORIST INJURED     int64  \n",
            " 15  NUMBER OF MOTORIST KILLED      int64  \n",
            " 16  COLLISION_ID                   int64  \n",
            "dtypes: float64(4), int64(7), object(6)\n",
            "memory usage: 236.5+ MB\n"
          ]
        }
      ]
    },
    {
      "cell_type": "markdown",
      "source": [
        "By observation, we can say there is NaN data , so I removed it and replaced with 0."
      ],
      "metadata": {
        "id": "dpSqunK-vS41"
      }
    },
    {
      "cell_type": "code",
      "source": [
        "pip install python-dateutil"
      ],
      "metadata": {
        "colab": {
          "base_uri": "https://localhost:8080/"
        },
        "id": "TgBh485hOZhj",
        "outputId": "cff400cc-0c64-44cd-be20-bbfb2618ca0b"
      },
      "execution_count": 41,
      "outputs": [
        {
          "output_type": "stream",
          "name": "stdout",
          "text": [
            "Requirement already satisfied: python-dateutil in /usr/local/lib/python3.7/dist-packages (2.8.2)\n",
            "Requirement already satisfied: six>=1.5 in /usr/local/lib/python3.7/dist-packages (from python-dateutil) (1.15.0)\n"
          ]
        }
      ]
    },
    {
      "cell_type": "markdown",
      "source": [
        "Plotting graph between year and the number of pedestrians injured"
      ],
      "metadata": {
        "id": "XLPJIQ2yaBmc"
      }
    },
    {
      "cell_type": "code",
      "source": [
        "x=data['CRASH DATE']\n",
        "year=[]\n",
        "from dateutil.parser import parse\n",
        "for i in range(0,len(x.index)):\n",
        "  dt = parse(x[i])\n",
        "  y=dt.year\n",
        "  year.append(y)"
      ],
      "metadata": {
        "id": "QSxqHaXRZ7Z1"
      },
      "execution_count": 42,
      "outputs": []
    },
    {
      "cell_type": "code",
      "source": [
        "y=data['NUMBER OF PEDESTRIANS INJURED']\n",
        "y=y.astype(int)\n",
        "l=year"
      ],
      "metadata": {
        "id": "F_lndn1oaSd-"
      },
      "execution_count": 43,
      "outputs": []
    },
    {
      "cell_type": "code",
      "source": [
        "import matplotlib.pyplot as plt \n",
        "import seaborn as sns\n",
        "plt=sns.barplot(l,y)"
      ],
      "metadata": {
        "colab": {
          "base_uri": "https://localhost:8080/",
          "height": 320
        },
        "id": "THbe3zFAaYW1",
        "outputId": "684bcf5d-5e41-45d3-d113-22a4d31b9f36"
      },
      "execution_count": 44,
      "outputs": [
        {
          "output_type": "stream",
          "name": "stderr",
          "text": [
            "/usr/local/lib/python3.7/dist-packages/seaborn/_decorators.py:43: FutureWarning: Pass the following variables as keyword args: x, y. From version 0.12, the only valid positional argument will be `data`, and passing other arguments without an explicit keyword will result in an error or misinterpretation.\n",
            "  FutureWarning\n"
          ]
        },
        {
          "output_type": "display_data",
          "data": {
            "image/png": "[encoded data removed]",
            "text/plain": [
              "<Figure size 432x288 with 1 Axes>"
            ]
          },
          "metadata": {
            "needs_background": "light"
          }
        }
      ]
    },
    {
      "cell_type": "markdown",
      "source": [
        "More pedestrians have been injured in the year 2021 and the least is in the year 2015."
      ],
      "metadata": {
        "id": "pQheECYxcX9k"
      }
    },
    {
      "cell_type": "markdown",
      "source": [
        "Plotting graph between year and number of pedestrains killed"
      ],
      "metadata": {
        "id": "irhxjgqVb6Kl"
      }
    },
    {
      "cell_type": "code",
      "source": [
        "y=data['NUMBER OF PEDESTRIANS KILLED']\n",
        "y=y.astype(int)\n",
        "l=year"
      ],
      "metadata": {
        "id": "xIJxdbyWa7p_"
      },
      "execution_count": 45,
      "outputs": []
    },
    {
      "cell_type": "code",
      "source": [
        "import matplotlib.pyplot as plt \n",
        "import seaborn as sns\n",
        "plt=sns.barplot(l,y)\n"
      ],
      "metadata": {
        "colab": {
          "base_uri": "https://localhost:8080/",
          "height": 320
        },
        "id": "qdnG-xROb-Jj",
        "outputId": "d6d90ac3-db3b-459d-b86c-6f6df5a29486"
      },
      "execution_count": 46,
      "outputs": [
        {
          "output_type": "stream",
          "name": "stderr",
          "text": [
            "/usr/local/lib/python3.7/dist-packages/seaborn/_decorators.py:43: FutureWarning: Pass the following variables as keyword args: x, y. From version 0.12, the only valid positional argument will be `data`, and passing other arguments without an explicit keyword will result in an error or misinterpretation.\n",
            "  FutureWarning\n"
          ]
        },
        {
          "output_type": "display_data",
          "data": {
            "image/png": "[encoded data removed]",
            "text/plain": [
              "<Figure size 432x288 with 1 Axes>"
            ]
          },
          "metadata": {
            "needs_background": "light"
          }
        }
      ]
    },
    {
      "cell_type": "markdown",
      "source": [
        "Most of the pedestrains killed were in the year 2021."
      ],
      "metadata": {
        "id": "rtwiKlkKcuua"
      }
    },
    {
      "cell_type": "markdown",
      "source": [
        "Plotting graph between year and number of cyclist injured"
      ],
      "metadata": {
        "id": "iXGTn-uxcPJq"
      }
    },
    {
      "cell_type": "code",
      "source": [
        "y=data['NUMBER OF CYCLIST INJURED']\n",
        "y=y.astype(int)\n",
        "l=year\n",
        "plt=sns.barplot(l,y)"
      ],
      "metadata": {
        "colab": {
          "base_uri": "https://localhost:8080/",
          "height": 320
        },
        "id": "RxCYqE71cQ4c",
        "outputId": "bc6fa469-2b98-407a-d801-84d4baf93d50"
      },
      "execution_count": 47,
      "outputs": [
        {
          "output_type": "stream",
          "name": "stderr",
          "text": [
            "/usr/local/lib/python3.7/dist-packages/seaborn/_decorators.py:43: FutureWarning: Pass the following variables as keyword args: x, y. From version 0.12, the only valid positional argument will be `data`, and passing other arguments without an explicit keyword will result in an error or misinterpretation.\n",
            "  FutureWarning\n"
          ]
        },
        {
          "output_type": "display_data",
          "data": {
            "image/png": "[encoded data removed]",
            "text/plain": [
              "<Figure size 432x288 with 1 Axes>"
            ]
          },
          "metadata": {
            "needs_background": "light"
          }
        }
      ]
    },
    {
      "cell_type": "markdown",
      "source": [
        "Most of the cyclists injured were in the year 2020."
      ],
      "metadata": {
        "id": "4_PYjuD2dBMX"
      }
    },
    {
      "cell_type": "markdown",
      "source": [
        "Plotting graph between year and number of cyclist killed"
      ],
      "metadata": {
        "id": "2UO87Remchji"
      }
    },
    {
      "cell_type": "code",
      "source": [
        "y=data['NUMBER OF CYCLIST KILLED']\n",
        "y=y.astype(int)\n",
        "l=year\n",
        "plt=sns.barplot(l,y)"
      ],
      "metadata": {
        "colab": {
          "base_uri": "https://localhost:8080/",
          "height": 320
        },
        "id": "8bJHSQ1-ckn4",
        "outputId": "e526aacb-56b6-435e-a7d8-1a845210b076"
      },
      "execution_count": 48,
      "outputs": [
        {
          "output_type": "stream",
          "name": "stderr",
          "text": [
            "/usr/local/lib/python3.7/dist-packages/seaborn/_decorators.py:43: FutureWarning: Pass the following variables as keyword args: x, y. From version 0.12, the only valid positional argument will be `data`, and passing other arguments without an explicit keyword will result in an error or misinterpretation.\n",
            "  FutureWarning\n"
          ]
        },
        {
          "output_type": "display_data",
          "data": {
            "image/png": "[encoded data removed]",
            "text/plain": [
              "<Figure size 432x288 with 1 Axes>"
            ]
          },
          "metadata": {
            "needs_background": "light"
          }
        }
      ]
    },
    {
      "cell_type": "markdown",
      "source": [
        "Plotting graph between year and number of motorist killed"
      ],
      "metadata": {
        "id": "1yd6Z9fec2Aj"
      }
    },
    {
      "cell_type": "code",
      "source": [
        "y=data['NUMBER OF MOTORIST KILLED']\n",
        "y=y.astype(int)\n",
        "l=year\n",
        "plt=sns.barplot(l,y)"
      ],
      "metadata": {
        "colab": {
          "base_uri": "https://localhost:8080/",
          "height": 320
        },
        "id": "xpYrDTaxc46p",
        "outputId": "24955a43-ce04-49ed-f0f1-1c50c2a71d30"
      },
      "execution_count": 49,
      "outputs": [
        {
          "output_type": "stream",
          "name": "stderr",
          "text": [
            "/usr/local/lib/python3.7/dist-packages/seaborn/_decorators.py:43: FutureWarning: Pass the following variables as keyword args: x, y. From version 0.12, the only valid positional argument will be `data`, and passing other arguments without an explicit keyword will result in an error or misinterpretation.\n",
            "  FutureWarning\n"
          ]
        },
        {
          "output_type": "display_data",
          "data": {
            "image/png": "[encoded data removed]",
            "text/plain": [
              "<Figure size 432x288 with 1 Axes>"
            ]
          },
          "metadata": {
            "needs_background": "light"
          }
        }
      ]
    },
    {
      "cell_type": "markdown",
      "source": [
        "In the year 2020 and 2021 almost same number of motorists were killed."
      ],
      "metadata": {
        "id": "6dJv_crHdhIl"
      }
    },
    {
      "cell_type": "markdown",
      "source": [
        "Plotting graph between year and number of motorist *injured*"
      ],
      "metadata": {
        "id": "5_Ax7M5CdHl_"
      }
    },
    {
      "cell_type": "code",
      "source": [
        "y=data['NUMBER OF MOTORIST INJURED']\n",
        "y=y.astype(int)\n",
        "l=year\n",
        "plt=sns.barplot(l,y)\n"
      ],
      "metadata": {
        "colab": {
          "base_uri": "https://localhost:8080/",
          "height": 320
        },
        "id": "mH0-MHHadKhR",
        "outputId": "c7781373-5e62-44ff-9549-8eecc6f3fa69"
      },
      "execution_count": 50,
      "outputs": [
        {
          "output_type": "stream",
          "name": "stderr",
          "text": [
            "/usr/local/lib/python3.7/dist-packages/seaborn/_decorators.py:43: FutureWarning: Pass the following variables as keyword args: x, y. From version 0.12, the only valid positional argument will be `data`, and passing other arguments without an explicit keyword will result in an error or misinterpretation.\n",
            "  FutureWarning\n"
          ]
        },
        {
          "output_type": "display_data",
          "data": {
            "image/png": "[encoded data removed]",
            "text/plain": [
              "<Figure size 432x288 with 1 Axes>"
            ]
          },
          "metadata": {
            "needs_background": "light"
          }
        }
      ]
    },
    {
      "cell_type": "markdown",
      "source": [
        "In the year 2021 , more motorists were injured."
      ],
      "metadata": {
        "id": "Zu1wgQ7HdXU0"
      }
    }
  ]
}