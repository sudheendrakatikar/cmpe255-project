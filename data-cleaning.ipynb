{
 "cells": [
  {
   "cell_type": "code",
   "execution_count": 1,
   "id": "7f0075bb",
   "metadata": {},
   "outputs": [],
   "source": [
    "import numpy as np\n",
    "import pandas as pd\n",
    "data = pd.read_csv('../data/motor_vehicle_collisions_crashes.csv', low_memory=False, error_bad_lines = False)\n",
    "\n",
    "# (40.680577, -73.974265)"
   ]
  },
  {
   "cell_type": "code",
   "execution_count": 9,
   "id": "a4a03d41",
   "metadata": {},
   "outputs": [],
   "source": [
    "data = data[data['BOROUGH'].notna()]\n",
    "data = data[data['LATITUDE'].notna()]\n",
    "data = data[data['LONGITUDE'].notna()]\n",
    "data = data[data['ON STREET NAME'].notna()]\n",
    "data = data[data['CONTRIBUTING FACTOR VEHICLE 1'].notna()]\n",
    "data = data.loc[data['CONTRIBUTING FACTOR VEHICLE 1'] != 'Unspecified']"
   ]
  },
  {
   "cell_type": "code",
   "execution_count": 13,
   "id": "bb54e03f",
   "metadata": {},
   "outputs": [],
   "source": [
    "data.to_csv('../data/motor_vehicle_collisions_crashes_clean.csv', index=False)"
   ]
  },
  {
   "cell_type": "code",
   "execution_count": 51,
   "id": "027b2799",
   "metadata": {},
   "outputs": [],
   "source": [
    "data = pd.read_csv('../data/motor_vehicle_collisions_crashes.csv', low_memory=False)"
   ]
  },
  {
   "cell_type": "code",
   "execution_count": 52,
   "id": "bdc85553",
   "metadata": {},
   "outputs": [],
   "source": [
    "cols = ['CRASH DATE',\n",
    "'CRASH TIME',\n",
    "'ON STREET NAME',\n",
    "'CONTRIBUTING FACTOR VEHICLE 1',\n",
    "'CONTRIBUTING FACTOR VEHICLE 2',\n",
    "'VEHICLE TYPE CODE 1',\n",
    "'VEHICLE TYPE CODE 2',\n",
    "       ]\n",
    "for col in cols:\n",
    "    data[col] = data[col].str.upper()"
   ]
  },
  {
   "cell_type": "code",
   "execution_count": 55,
   "id": "e7ccb7b1",
   "metadata": {},
   "outputs": [],
   "source": [
    "data.loc[(data['VEHICLE TYPE CODE 1'] == 'STATION WAGON/SPORT UTILITY VEHICLE') | (data['VEHICLE TYPE CODE 1'] == 'SPORT UTILITY / STATION WAGON'), 'VEHICLE TYPE CODE 1'] = 'SUV'"
   ]
  },
  {
   "cell_type": "code",
   "execution_count": 59,
   "id": "8f13f459",
   "metadata": {},
   "outputs": [
    {
     "data": {
      "text/plain": [
       "SUV                               546288\n",
       "SEDAN                             502576\n",
       "PASSENGER VEHICLE                 416206\n",
       "TAXI                               76870\n",
       "PICK-UP TRUCK                      40739\n",
       "VAN                                33165\n",
       "BUS                                30850\n",
       "OTHER                              22971\n",
       "BOX TRUCK                          20218\n",
       "UNKNOWN                            19939\n",
       "LARGE COM VEH(6 OR MORE TIRES)     14397\n",
       "SMALL COM VEH(4 TIRES)             13216\n",
       "BIKE                               10767\n",
       "LIVERY VEHICLE                     10481\n",
       "MOTORCYCLE                         10155\n",
       "TRACTOR TRUCK DIESEL                8589\n",
       "AMBULANCE                           5384\n",
       "CONVERTIBLE                         3224\n",
       "DUMP                                3136\n",
       "FLAT BED                            1980\n",
       "PK                                  1913\n",
       "GARBAGE OR REFUSE                   1731\n",
       "CARRY ALL                           1631\n",
       "TRACTOR TRUCK GASOLINE              1297\n",
       "TOW TRUCK / WRECKER                 1050\n",
       "E-BIKE                               965\n",
       "FIRE TRUCK                           850\n",
       "E-SCOOTER                            777\n",
       "MOPED                                721\n",
       "CHASSIS CAB                          677\n",
       "Name: VEHICLE TYPE CODE 1, dtype: int64"
      ]
     },
     "execution_count": 59,
     "metadata": {},
     "output_type": "execute_result"
    }
   ],
   "source": [
    "data['VEHICLE TYPE CODE 1'].value_counts()[:30]"
   ]
  },
  {
   "cell_type": "code",
   "execution_count": null,
   "id": "615a4206",
   "metadata": {},
   "outputs": [],
   "source": []
  }
 ],
 "metadata": {
  "kernelspec": {
   "display_name": "Python 3",
   "language": "python",
   "name": "python3"
  },
  "language_info": {
   "codemirror_mode": {
    "name": "ipython",
    "version": 3
   },
   "file_extension": ".py",
   "mimetype": "text/x-python",
   "name": "python",
   "nbconvert_exporter": "python",
   "pygments_lexer": "ipython3",
   "version": "3.8.8"
  }
 },
 "nbformat": 4,
 "nbformat_minor": 5
}
