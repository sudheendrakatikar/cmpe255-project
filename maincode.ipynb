{
  "nbformat": 4,
  "nbformat_minor": 0,
  "metadata": {
    "colab": {
      "name": "maincode.ipynb",
      "provenance": [],
      "collapsed_sections": [],
      "toc_visible": true,
      "include_colab_link": true
    },
    "kernelspec": {
      "name": "python3",
      "display_name": "Python 3"
    },
    "language_info": {
      "name": "python"
    }
  },
  "cells": [
    {
      "cell_type": "markdown",
      "metadata": {
        "id": "view-in-github",
        "colab_type": "text"
      },
      "source": [
        "<a href=\"https://colab.research.google.com/github/sudheendrakatikar/cmpe255-project-team1/blob/main/maincode.ipynb\" target=\"_parent\"><img src=\"https://colab.research.google.com/assets/colab-badge.svg\" alt=\"Open In Colab\"/></a>"
      ]
    },
    {
      "cell_type": "markdown",
      "metadata": {
        "id": "OJ0_m_77RkKa"
      },
      "source": [
        "# CMPE 255 Group Project"
      ]
    },
    {
      "cell_type": "markdown",
      "metadata": {
        "id": "MAObV8u8XBEP"
      },
      "source": [
        "###Includes"
      ]
    },
    {
      "cell_type": "code",
      "metadata": {
        "id": "rsIYaXnn2o4x"
      },
      "source": [
        "# Includes\n",
        "from google.colab import files\n",
        "from google.colab import drive\n",
        "\n",
        "import pandas as pd\n",
        "import numpy as np\n",
        "import folium\n",
        "from folium import features\n",
        "from folium.plugins import HeatMap\n",
        "from folium.plugins import MarkerCluster\n",
        "from mlxtend.frequent_patterns import apriori, association_rules\n",
        "from mlxtend.preprocessing import TransactionEncoder\n",
        "\n",
        "\n",
        "# Use line below to unmount\n",
        "# drive.flush_and_unmount()\n",
        "\n",
        "# Use line below to mount drive to access data\n",
        "# drive.mount('/content/drive')"
      ],
      "execution_count": null,
      "outputs": []
    },
    {
      "cell_type": "markdown",
      "metadata": {
        "id": "heKGrtg-XiL8"
      },
      "source": [
        "### Mount Drive"
      ]
    },
    {
      "cell_type": "code",
      "metadata": {
        "colab": {
          "base_uri": "https://localhost:8080/"
        },
        "id": "UwGVuXTrv88v",
        "outputId": "1accaf86-baab-483b-cd86-6b27f0cb413a"
      },
      "source": [
        "from google.colab import drive\n",
        "drive.mount('/content/drive')"
      ],
      "execution_count": null,
      "outputs": [
        {
          "output_type": "stream",
          "name": "stdout",
          "text": [
            "Drive already mounted at /content/drive; to attempt to forcibly remount, call drive.mount(\"/content/drive\", force_remount=True).\n"
          ]
        }
      ]
    },
    {
      "cell_type": "markdown",
      "metadata": {
        "id": "sE4a5bX5X3Kz"
      },
      "source": [
        "### Defining Load Data Function"
      ]
    },
    {
      "cell_type": "code",
      "metadata": {
        "id": "QWgtUYdIMOwR"
      },
      "source": [
        "#Data Preprocessing Functions\n",
        "def load_data(filename):\n",
        "    # Create Pandas Dataframe from CSV File. \n",
        "    # Input filename as a String\n",
        "\n",
        "    return pd.read_csv(filename, encoding='utf-8')"
      ],
      "execution_count": null,
      "outputs": []
    },
    {
      "cell_type": "markdown",
      "metadata": {
        "id": "npF9PXmRZJoy"
      },
      "source": [
        "### Define Cleanup Data Functions"
      ]
    },
    {
      "cell_type": "code",
      "metadata": {
        "id": "ydGJ4uT8MGTq"
      },
      "source": [
        "#Clean Up Functions\n",
        "\n",
        "#Below are incomplete functions for cleaning data. Feel free to Modify for our own use\n",
        "def remove_unnecersary_columns(df):\n",
        "    df.drop([], axis=1, inplace=True)\n",
        "    return\n",
        "\n",
        "def  fill_missing_values(df):\n",
        "    #df.fillna(value=\"No Name\", inplace=True)\n",
        "\n",
        "    #Display For Debugging\n",
        "    #display(df)\n",
        "    return\n",
        "def drop_col(df):\n",
        "    #df.drop(['LATITUDE', 'LONGITUDE'], axis=1, inplace=True)\n",
        "    #display(df)\n",
        "    return\n",
        "\n",
        "def drop_row(df):\n",
        "    df.dropna(subset=['LATITUDE', 'LONGITUDE', 'ON STREET NAME'], inplace = True)    \n",
        "    return"
      ],
      "execution_count": null,
      "outputs": []
    },
    {
      "cell_type": "markdown",
      "metadata": {
        "id": "bZ1TzyGDZSMe"
      },
      "source": [
        "### Define Visualization Functions"
      ]
    },
    {
      "cell_type": "code",
      "metadata": {
        "id": "8epzBkNQvSV1"
      },
      "source": [
        "def pieChart(data):\n",
        "  data.BOROUGH.value_counts().plot.pie(title='Accident % by Borough', label='', autopct='%1.1f%%', figsize=(12, 5), startangle=0)"
      ],
      "execution_count": null,
      "outputs": []
    },
    {
      "cell_type": "code",
      "metadata": {
        "id": "R9JtMgktwH68"
      },
      "source": [
        "def barChart(data):\n",
        "  time_series = pd.Series([ int(time.split(':')[0]) for time in data['CRASH TIME'] ]).value_counts().sort_index()\n",
        "  time_series.plot(kind='bar', title='Accidents in NYC by hour', figsize=(12, 5))"
      ],
      "execution_count": null,
      "outputs": []
    },
    {
      "cell_type": "code",
      "metadata": {
        "id": "tG8XaVpEwOni"
      },
      "source": [
        "def heatmap(data):\n",
        "  heatmap = folium.Map(location=[40.742459, -73.971765], zoom_start=12)\n",
        "  coords = [[x[0], x[1], 1] for x in np.array(data[['LATITUDE', 'LONGITUDE']].dropna())]\n",
        "  print(coords)\n",
        "  HeatMap(coords, radius = 20).add_to(heatmap)\n",
        "  heatmap"
      ],
      "execution_count": null,
      "outputs": []
    },
    {
      "cell_type": "markdown",
      "metadata": {
        "id": "ZAnvoFThgUxF"
      },
      "source": [
        "### Load Data"
      ]
    },
    {
      "cell_type": "code",
      "metadata": {
        "id": "m3YdECgsK7E-",
        "colab": {
          "base_uri": "https://localhost:8080/"
        },
        "outputId": "7dee51a1-2974-4640-8668-e876b33fab42"
      },
      "source": [
        "data = load_data('/content/drive/Shareddrives/CMPE_255/255_Project/motor_vehicle_collisions_crashes.csv')\n",
        "print(\"Showing Original Data ---------------------------------------------------------\")\n"
      ],
      "execution_count": null,
      "outputs": [
        {
          "output_type": "stream",
          "name": "stderr",
          "text": [
            "/usr/local/lib/python3.7/dist-packages/IPython/core/interactiveshell.py:2822: DtypeWarning: Columns (3) have mixed types.Specify dtype option on import or set low_memory=False.\n",
            "  if self.run_code(code, result):\n"
          ]
        },
        {
          "output_type": "stream",
          "name": "stdout",
          "text": [
            "Showing Original Data ---------------------------------------------------------\n"
          ]
        }
      ]
    },
    {
      "cell_type": "markdown",
      "metadata": {
        "id": "k2O9l_kbaa1_"
      },
      "source": [
        "### Define Method Functions"
      ]
    },
    {
      "cell_type": "markdown",
      "metadata": {
        "id": "rWLLuq2Cdnda"
      },
      "source": [
        "#### Method 1: Association Analysis"
      ]
    },
    {
      "cell_type": "code",
      "metadata": {
        "id": "NesY8rg4Jd3L"
      },
      "source": [
        "def association_analysis(data):\n",
        "    #print(data.columns)\n",
        "    data.drop(columns=['CRASH DATE', 'CRASH TIME', 'BOROUGH', 'ZIP CODE', 'LATITUDE',\n",
        "       'LONGITUDE', 'LOCATION', 'CROSS STREET NAME',\n",
        "       'OFF STREET NAME', 'NUMBER OF PEDESTRIANS INJURED',\n",
        "       'NUMBER OF PEDESTRIANS KILLED', 'NUMBER OF CYCLIST INJURED',\n",
        "       'NUMBER OF CYCLIST KILLED', 'NUMBER OF MOTORIST INJURED',\n",
        "       'NUMBER OF MOTORIST KILLED', 'CONTRIBUTING FACTOR VEHICLE 1',\n",
        "       'CONTRIBUTING FACTOR VEHICLE 2', 'CONTRIBUTING FACTOR VEHICLE 3',\n",
        "       'CONTRIBUTING FACTOR VEHICLE 4', 'CONTRIBUTING FACTOR VEHICLE 5',\n",
        "       'COLLISION_ID',  'VEHICLE TYPE CODE 2',\n",
        "       'VEHICLE TYPE CODE 3', 'VEHICLE TYPE CODE 4', 'VEHICLE TYPE CODE 5'], inplace = True)\n",
        "    display(data.head(5))\n",
        "    display(data.shape)\n",
        "\n",
        "    \n",
        "    #data.rename(columns = {'Number of Persons Injured':'persons_injured'}, inplace = True)\n",
        "    #data.rename(columns = {'Number of Persons Killed':'killed'}, inplace = True)\n",
        "\n",
        "    #data.drop(data.index[data['NUMBER OF PERSONS INJURED'] == 0.0], inplace=True)\n",
        "\n",
        "    data.dropna(subset=['ON STREET NAME'], inplace = True)\n",
        "    te = TransactionEncoder()\n",
        "    te_ary = te.fit(data).transform(data) \n",
        "    df = pd.DataFrame(te_ary, columns=te.columns_)\n",
        "    print(df)\n",
        "\n",
        "    frequent_itemsets = apriori(df, min_support=0.000001, use_colnames=False)\n",
        "    print(\"\\n\")\n",
        "    print(frequent_itemsets)"
      ],
      "execution_count": null,
      "outputs": []
    },
    {
      "cell_type": "code",
      "metadata": {
        "colab": {
          "base_uri": "https://localhost:8080/",
          "height": 544
        },
        "id": "z6D5AVxyv5yu",
        "outputId": "24653c9b-8bb3-4aba-d754-3bf6402f8d07"
      },
      "source": [
        "association_analysis(data)"
      ],
      "execution_count": null,
      "outputs": [
        {
          "output_type": "display_data",
          "data": {
            "text/html": [
              "<div>\n",
              "<style scoped>\n",
              "    .dataframe tbody tr th:only-of-type {\n",
              "        vertical-align: middle;\n",
              "    }\n",
              "\n",
              "    .dataframe tbody tr th {\n",
              "        vertical-align: top;\n",
              "    }\n",
              "\n",
              "    .dataframe thead th {\n",
              "        text-align: right;\n",
              "    }\n",
              "</style>\n",
              "<table border=\"1\" class=\"dataframe\">\n",
              "  <thead>\n",
              "    <tr style=\"text-align: right;\">\n",
              "      <th></th>\n",
              "      <th>ON STREET NAME</th>\n",
              "      <th>NUMBER OF PERSONS INJURED</th>\n",
              "      <th>NUMBER OF PERSONS KILLED</th>\n",
              "      <th>VEHICLE TYPE CODE 1</th>\n",
              "    </tr>\n",
              "  </thead>\n",
              "  <tbody>\n",
              "    <tr>\n",
              "      <th>0</th>\n",
              "      <td>BRONX WHITESTONE BRIDGE</td>\n",
              "      <td>0.0</td>\n",
              "      <td>0.0</td>\n",
              "      <td>Sedan</td>\n",
              "    </tr>\n",
              "    <tr>\n",
              "      <th>1</th>\n",
              "      <td>NaN</td>\n",
              "      <td>1.0</td>\n",
              "      <td>0.0</td>\n",
              "      <td>Sedan</td>\n",
              "    </tr>\n",
              "    <tr>\n",
              "      <th>2</th>\n",
              "      <td>HUTCHINSON RIVER PARKWAY</td>\n",
              "      <td>0.0</td>\n",
              "      <td>0.0</td>\n",
              "      <td>Station Wagon/Sport Utility Vehicle</td>\n",
              "    </tr>\n",
              "    <tr>\n",
              "      <th>3</th>\n",
              "      <td>VANDERVORT AVENUE</td>\n",
              "      <td>0.0</td>\n",
              "      <td>0.0</td>\n",
              "      <td>Sedan</td>\n",
              "    </tr>\n",
              "    <tr>\n",
              "      <th>4</th>\n",
              "      <td>EDSON AVENUE</td>\n",
              "      <td>0.0</td>\n",
              "      <td>0.0</td>\n",
              "      <td>Station Wagon/Sport Utility Vehicle</td>\n",
              "    </tr>\n",
              "  </tbody>\n",
              "</table>\n",
              "</div>"
            ],
            "text/plain": [
              "                     ON STREET NAME  ...                  VEHICLE TYPE CODE 1\n",
              "0           BRONX WHITESTONE BRIDGE  ...                                Sedan\n",
              "1                               NaN  ...                                Sedan\n",
              "2          HUTCHINSON RIVER PARKWAY  ...  Station Wagon/Sport Utility Vehicle\n",
              "3                 VANDERVORT AVENUE  ...                                Sedan\n",
              "4  EDSON AVENUE                      ...  Station Wagon/Sport Utility Vehicle\n",
              "\n",
              "[5 rows x 4 columns]"
            ]
          },
          "metadata": {}
        },
        {
          "output_type": "display_data",
          "data": {
            "text/plain": [
              "(1823537, 4)"
            ]
          },
          "metadata": {}
        },
        {
          "output_type": "stream",
          "name": "stdout",
          "text": [
            "                    1      A      B      C  ...      S      T      U      V      Y\n",
            "0         True  False   True  False  False  ...   True   True  False  False  False\n",
            "1         True  False  False   True  False  ...   True  False   True  False  False\n",
            "2         True  False  False   True  False  ...   True  False   True  False  False\n",
            "3         True   True  False  False   True  ...  False   True  False   True   True\n",
            "4        False  False  False  False  False  ...  False  False  False  False  False\n",
            "...        ...    ...    ...    ...    ...  ...    ...    ...    ...    ...    ...\n",
            "1451802  False  False  False  False  False  ...  False  False  False  False  False\n",
            "1451803  False  False  False  False  False  ...  False  False  False  False  False\n",
            "1451804  False  False  False  False  False  ...  False  False  False  False  False\n",
            "1451805  False  False  False  False  False  ...  False  False  False  False  False\n",
            "1451806  False  False  False  False  False  ...  False  False  False  False  False\n",
            "\n",
            "[1451807 rows x 23 columns]\n",
            "\n",
            "\n",
            "Empty DataFrame\n",
            "Columns: [support, itemsets]\n",
            "Index: []\n"
          ]
        }
      ]
    },
    {
      "cell_type": "markdown",
      "metadata": {
        "id": "jaIbKCJJdtYJ"
      },
      "source": [
        "#### Method 2: Classification"
      ]
    },
    {
      "cell_type": "markdown",
      "metadata": {
        "id": "KlnyGHpiagV5"
      },
      "source": [
        "#### Method 3: "
      ]
    },
    {
      "cell_type": "markdown",
      "metadata": {
        "id": "EaVHWqfPTR4V"
      },
      "source": [
        "###Cleaning Data"
      ]
    },
    {
      "cell_type": "code",
      "metadata": {
        "colab": {
          "base_uri": "https://localhost:8080/",
          "height": 779
        },
        "id": "WE5M6vwoTTnC",
        "outputId": "af0a1f0f-f670-47ef-c007-068ba7bdd0df"
      },
      "source": [
        "#Cleaning Data\n",
        "drop_row(data)\n",
        "display(data)"
      ],
      "execution_count": null,
      "outputs": [
        {
          "output_type": "display_data",
          "data": {
            "text/html": [
              "<div>\n",
              "<style scoped>\n",
              "    .dataframe tbody tr th:only-of-type {\n",
              "        vertical-align: middle;\n",
              "    }\n",
              "\n",
              "    .dataframe tbody tr th {\n",
              "        vertical-align: top;\n",
              "    }\n",
              "\n",
              "    .dataframe thead th {\n",
              "        text-align: right;\n",
              "    }\n",
              "</style>\n",
              "<table border=\"1\" class=\"dataframe\">\n",
              "  <thead>\n",
              "    <tr style=\"text-align: right;\">\n",
              "      <th></th>\n",
              "      <th>CRASH DATE</th>\n",
              "      <th>CRASH TIME</th>\n",
              "      <th>BOROUGH</th>\n",
              "      <th>ZIP CODE</th>\n",
              "      <th>LATITUDE</th>\n",
              "      <th>LONGITUDE</th>\n",
              "      <th>LOCATION</th>\n",
              "      <th>ON STREET NAME</th>\n",
              "      <th>CROSS STREET NAME</th>\n",
              "      <th>OFF STREET NAME</th>\n",
              "      <th>NUMBER OF PERSONS INJURED</th>\n",
              "      <th>NUMBER OF PERSONS KILLED</th>\n",
              "      <th>NUMBER OF PEDESTRIANS INJURED</th>\n",
              "      <th>NUMBER OF PEDESTRIANS KILLED</th>\n",
              "      <th>NUMBER OF CYCLIST INJURED</th>\n",
              "      <th>NUMBER OF CYCLIST KILLED</th>\n",
              "      <th>NUMBER OF MOTORIST INJURED</th>\n",
              "      <th>NUMBER OF MOTORIST KILLED</th>\n",
              "      <th>CONTRIBUTING FACTOR VEHICLE 1</th>\n",
              "      <th>CONTRIBUTING FACTOR VEHICLE 2</th>\n",
              "      <th>CONTRIBUTING FACTOR VEHICLE 3</th>\n",
              "      <th>CONTRIBUTING FACTOR VEHICLE 4</th>\n",
              "      <th>CONTRIBUTING FACTOR VEHICLE 5</th>\n",
              "      <th>COLLISION_ID</th>\n",
              "      <th>VEHICLE TYPE CODE 1</th>\n",
              "      <th>VEHICLE TYPE CODE 2</th>\n",
              "      <th>VEHICLE TYPE CODE 3</th>\n",
              "      <th>VEHICLE TYPE CODE 4</th>\n",
              "      <th>VEHICLE TYPE CODE 5</th>\n",
              "    </tr>\n",
              "  </thead>\n",
              "  <tbody>\n",
              "    <tr>\n",
              "      <th>4</th>\n",
              "      <td>04/12/2021</td>\n",
              "      <td>8:25</td>\n",
              "      <td>NaN</td>\n",
              "      <td>NaN</td>\n",
              "      <td>0.000000</td>\n",
              "      <td>0.000000</td>\n",
              "      <td>(0.0, 0.0)</td>\n",
              "      <td>EDSON AVENUE</td>\n",
              "      <td>NaN</td>\n",
              "      <td>NaN</td>\n",
              "      <td>0.0</td>\n",
              "      <td>0.0</td>\n",
              "      <td>0</td>\n",
              "      <td>0</td>\n",
              "      <td>0</td>\n",
              "      <td>0</td>\n",
              "      <td>0</td>\n",
              "      <td>0</td>\n",
              "      <td>Unspecified</td>\n",
              "      <td>Unspecified</td>\n",
              "      <td>NaN</td>\n",
              "      <td>NaN</td>\n",
              "      <td>NaN</td>\n",
              "      <td>4406885</td>\n",
              "      <td>Station Wagon/Sport Utility Vehicle</td>\n",
              "      <td>Sedan</td>\n",
              "      <td>NaN</td>\n",
              "      <td>NaN</td>\n",
              "      <td>NaN</td>\n",
              "    </tr>\n",
              "    <tr>\n",
              "      <th>13</th>\n",
              "      <td>05/21/2019</td>\n",
              "      <td>22:50</td>\n",
              "      <td>BROOKLYN</td>\n",
              "      <td>11201</td>\n",
              "      <td>40.697540</td>\n",
              "      <td>-73.983120</td>\n",
              "      <td>(40.69754, -73.98312)</td>\n",
              "      <td>GOLD STREET</td>\n",
              "      <td>CONCORD STREET</td>\n",
              "      <td>NaN</td>\n",
              "      <td>0.0</td>\n",
              "      <td>0.0</td>\n",
              "      <td>0</td>\n",
              "      <td>0</td>\n",
              "      <td>0</td>\n",
              "      <td>0</td>\n",
              "      <td>0</td>\n",
              "      <td>0</td>\n",
              "      <td>Passing or Lane Usage Improper</td>\n",
              "      <td>Unspecified</td>\n",
              "      <td>NaN</td>\n",
              "      <td>NaN</td>\n",
              "      <td>NaN</td>\n",
              "      <td>4136992</td>\n",
              "      <td>�MBU</td>\n",
              "      <td>Taxi</td>\n",
              "      <td>NaN</td>\n",
              "      <td>NaN</td>\n",
              "      <td>NaN</td>\n",
              "    </tr>\n",
              "    <tr>\n",
              "      <th>16</th>\n",
              "      <td>03/09/2021</td>\n",
              "      <td>11:00</td>\n",
              "      <td>NaN</td>\n",
              "      <td>NaN</td>\n",
              "      <td>40.692547</td>\n",
              "      <td>-73.990974</td>\n",
              "      <td>(40.692547, -73.990974)</td>\n",
              "      <td>COURT STREET</td>\n",
              "      <td>JORALEMON STREET</td>\n",
              "      <td>NaN</td>\n",
              "      <td>1.0</td>\n",
              "      <td>0.0</td>\n",
              "      <td>0</td>\n",
              "      <td>0</td>\n",
              "      <td>0</td>\n",
              "      <td>0</td>\n",
              "      <td>1</td>\n",
              "      <td>0</td>\n",
              "      <td>Following Too Closely</td>\n",
              "      <td>Unspecified</td>\n",
              "      <td>NaN</td>\n",
              "      <td>NaN</td>\n",
              "      <td>NaN</td>\n",
              "      <td>4397513</td>\n",
              "      <td>Pick-up Truck</td>\n",
              "      <td>Sedan</td>\n",
              "      <td>NaN</td>\n",
              "      <td>NaN</td>\n",
              "      <td>NaN</td>\n",
              "    </tr>\n",
              "    <tr>\n",
              "      <th>17</th>\n",
              "      <td>03/31/2021</td>\n",
              "      <td>22:20</td>\n",
              "      <td>BROOKLYN</td>\n",
              "      <td>11234</td>\n",
              "      <td>40.626457</td>\n",
              "      <td>-73.918000</td>\n",
              "      <td>(40.626457, -73.918)</td>\n",
              "      <td>RALPH AVENUE</td>\n",
              "      <td>AVENUE K</td>\n",
              "      <td>NaN</td>\n",
              "      <td>1.0</td>\n",
              "      <td>0.0</td>\n",
              "      <td>0</td>\n",
              "      <td>0</td>\n",
              "      <td>0</td>\n",
              "      <td>0</td>\n",
              "      <td>1</td>\n",
              "      <td>0</td>\n",
              "      <td>Driver Inexperience</td>\n",
              "      <td>Unspecified</td>\n",
              "      <td>NaN</td>\n",
              "      <td>NaN</td>\n",
              "      <td>NaN</td>\n",
              "      <td>4403773</td>\n",
              "      <td>Sedan</td>\n",
              "      <td>Sedan</td>\n",
              "      <td>NaN</td>\n",
              "      <td>NaN</td>\n",
              "      <td>NaN</td>\n",
              "    </tr>\n",
              "    <tr>\n",
              "      <th>18</th>\n",
              "      <td>04/06/2021</td>\n",
              "      <td>22:58</td>\n",
              "      <td>STATEN ISLAND</td>\n",
              "      <td>10312</td>\n",
              "      <td>40.526894</td>\n",
              "      <td>-74.167280</td>\n",
              "      <td>(40.526894, -74.16728)</td>\n",
              "      <td>BARCLAY AVENUE</td>\n",
              "      <td>HYLAN BOULEVARD</td>\n",
              "      <td>NaN</td>\n",
              "      <td>7.0</td>\n",
              "      <td>0.0</td>\n",
              "      <td>0</td>\n",
              "      <td>0</td>\n",
              "      <td>0</td>\n",
              "      <td>0</td>\n",
              "      <td>7</td>\n",
              "      <td>0</td>\n",
              "      <td>Failure to Yield Right-of-Way</td>\n",
              "      <td>Unsafe Speed</td>\n",
              "      <td>NaN</td>\n",
              "      <td>NaN</td>\n",
              "      <td>NaN</td>\n",
              "      <td>4405244</td>\n",
              "      <td>Station Wagon/Sport Utility Vehicle</td>\n",
              "      <td>Station Wagon/Sport Utility Vehicle</td>\n",
              "      <td>NaN</td>\n",
              "      <td>NaN</td>\n",
              "      <td>NaN</td>\n",
              "    </tr>\n",
              "    <tr>\n",
              "      <th>...</th>\n",
              "      <td>...</td>\n",
              "      <td>...</td>\n",
              "      <td>...</td>\n",
              "      <td>...</td>\n",
              "      <td>...</td>\n",
              "      <td>...</td>\n",
              "      <td>...</td>\n",
              "      <td>...</td>\n",
              "      <td>...</td>\n",
              "      <td>...</td>\n",
              "      <td>...</td>\n",
              "      <td>...</td>\n",
              "      <td>...</td>\n",
              "      <td>...</td>\n",
              "      <td>...</td>\n",
              "      <td>...</td>\n",
              "      <td>...</td>\n",
              "      <td>...</td>\n",
              "      <td>...</td>\n",
              "      <td>...</td>\n",
              "      <td>...</td>\n",
              "      <td>...</td>\n",
              "      <td>...</td>\n",
              "      <td>...</td>\n",
              "      <td>...</td>\n",
              "      <td>...</td>\n",
              "      <td>...</td>\n",
              "      <td>...</td>\n",
              "      <td>...</td>\n",
              "    </tr>\n",
              "    <tr>\n",
              "      <th>1823531</th>\n",
              "      <td>07/07/2012</td>\n",
              "      <td>17:35</td>\n",
              "      <td>BROOKLYN</td>\n",
              "      <td>11235</td>\n",
              "      <td>40.575802</td>\n",
              "      <td>-73.961137</td>\n",
              "      <td>(40.5758019, -73.9611371)</td>\n",
              "      <td>BRIGHTON 6 STREET</td>\n",
              "      <td>BRIGHTWATER COURT</td>\n",
              "      <td>NaN</td>\n",
              "      <td>0.0</td>\n",
              "      <td>0.0</td>\n",
              "      <td>0</td>\n",
              "      <td>0</td>\n",
              "      <td>0</td>\n",
              "      <td>0</td>\n",
              "      <td>0</td>\n",
              "      <td>0</td>\n",
              "      <td>Unspecified</td>\n",
              "      <td>Unspecified</td>\n",
              "      <td>NaN</td>\n",
              "      <td>NaN</td>\n",
              "      <td>NaN</td>\n",
              "      <td>113584</td>\n",
              "      <td>PASSENGER VEHICLE</td>\n",
              "      <td>PASSENGER VEHICLE</td>\n",
              "      <td>NaN</td>\n",
              "      <td>NaN</td>\n",
              "      <td>NaN</td>\n",
              "    </tr>\n",
              "    <tr>\n",
              "      <th>1823532</th>\n",
              "      <td>07/06/2012</td>\n",
              "      <td>15:09</td>\n",
              "      <td>MANHATTAN</td>\n",
              "      <td>10035</td>\n",
              "      <td>40.801235</td>\n",
              "      <td>-73.941815</td>\n",
              "      <td>(40.8012354, -73.9418153)</td>\n",
              "      <td>EAST 119 STREET</td>\n",
              "      <td>PARK AVENUE</td>\n",
              "      <td>NaN</td>\n",
              "      <td>0.0</td>\n",
              "      <td>0.0</td>\n",
              "      <td>0</td>\n",
              "      <td>0</td>\n",
              "      <td>0</td>\n",
              "      <td>0</td>\n",
              "      <td>0</td>\n",
              "      <td>0</td>\n",
              "      <td>Unspecified</td>\n",
              "      <td>Unspecified</td>\n",
              "      <td>NaN</td>\n",
              "      <td>NaN</td>\n",
              "      <td>NaN</td>\n",
              "      <td>59654</td>\n",
              "      <td>SPORT UTILITY / STATION WAGON</td>\n",
              "      <td>PASSENGER VEHICLE</td>\n",
              "      <td>NaN</td>\n",
              "      <td>NaN</td>\n",
              "      <td>NaN</td>\n",
              "    </tr>\n",
              "    <tr>\n",
              "      <th>1823533</th>\n",
              "      <td>07/03/2012</td>\n",
              "      <td>17:30</td>\n",
              "      <td>QUEENS</td>\n",
              "      <td>11102</td>\n",
              "      <td>40.774711</td>\n",
              "      <td>-73.933386</td>\n",
              "      <td>(40.7747112, -73.9333863)</td>\n",
              "      <td>27 AVENUE</td>\n",
              "      <td>4 STREET</td>\n",
              "      <td>NaN</td>\n",
              "      <td>2.0</td>\n",
              "      <td>0.0</td>\n",
              "      <td>0</td>\n",
              "      <td>0</td>\n",
              "      <td>0</td>\n",
              "      <td>0</td>\n",
              "      <td>2</td>\n",
              "      <td>0</td>\n",
              "      <td>Failure to Yield Right-of-Way</td>\n",
              "      <td>Unspecified</td>\n",
              "      <td>NaN</td>\n",
              "      <td>NaN</td>\n",
              "      <td>NaN</td>\n",
              "      <td>272592</td>\n",
              "      <td>PASSENGER VEHICLE</td>\n",
              "      <td>SPORT UTILITY / STATION WAGON</td>\n",
              "      <td>NaN</td>\n",
              "      <td>NaN</td>\n",
              "      <td>NaN</td>\n",
              "    </tr>\n",
              "    <tr>\n",
              "      <th>1823534</th>\n",
              "      <td>07/01/2012</td>\n",
              "      <td>15:30</td>\n",
              "      <td>BROOKLYN</td>\n",
              "      <td>11236</td>\n",
              "      <td>40.645032</td>\n",
              "      <td>-73.919978</td>\n",
              "      <td>(40.6450318, -73.9199775)</td>\n",
              "      <td>RALPH AVENUE</td>\n",
              "      <td>CLARENDON ROAD</td>\n",
              "      <td>NaN</td>\n",
              "      <td>0.0</td>\n",
              "      <td>0.0</td>\n",
              "      <td>0</td>\n",
              "      <td>0</td>\n",
              "      <td>0</td>\n",
              "      <td>0</td>\n",
              "      <td>0</td>\n",
              "      <td>0</td>\n",
              "      <td>Unspecified</td>\n",
              "      <td>Unspecified</td>\n",
              "      <td>NaN</td>\n",
              "      <td>NaN</td>\n",
              "      <td>NaN</td>\n",
              "      <td>135041</td>\n",
              "      <td>SMALL COM VEH(4 TIRES)</td>\n",
              "      <td>PASSENGER VEHICLE</td>\n",
              "      <td>NaN</td>\n",
              "      <td>NaN</td>\n",
              "      <td>NaN</td>\n",
              "    </tr>\n",
              "    <tr>\n",
              "      <th>1823536</th>\n",
              "      <td>07/05/2012</td>\n",
              "      <td>23:00</td>\n",
              "      <td>QUEENS</td>\n",
              "      <td>11367</td>\n",
              "      <td>40.719910</td>\n",
              "      <td>-73.809039</td>\n",
              "      <td>(40.7199104, -73.8090389)</td>\n",
              "      <td>PARSONS BOULEVARD</td>\n",
              "      <td>UNION TURNPIKE</td>\n",
              "      <td>NaN</td>\n",
              "      <td>0.0</td>\n",
              "      <td>0.0</td>\n",
              "      <td>0</td>\n",
              "      <td>0</td>\n",
              "      <td>0</td>\n",
              "      <td>0</td>\n",
              "      <td>0</td>\n",
              "      <td>0</td>\n",
              "      <td>Driver Inattention/Distraction</td>\n",
              "      <td>Unspecified</td>\n",
              "      <td>NaN</td>\n",
              "      <td>NaN</td>\n",
              "      <td>NaN</td>\n",
              "      <td>233172</td>\n",
              "      <td>UNKNOWN</td>\n",
              "      <td>PASSENGER VEHICLE</td>\n",
              "      <td>NaN</td>\n",
              "      <td>NaN</td>\n",
              "      <td>NaN</td>\n",
              "    </tr>\n",
              "  </tbody>\n",
              "</table>\n",
              "<p>1291828 rows × 29 columns</p>\n",
              "</div>"
            ],
            "text/plain": [
              "         CRASH DATE CRASH TIME  ... VEHICLE TYPE CODE 4 VEHICLE TYPE CODE 5\n",
              "4        04/12/2021       8:25  ...                 NaN                 NaN\n",
              "13       05/21/2019      22:50  ...                 NaN                 NaN\n",
              "16       03/09/2021      11:00  ...                 NaN                 NaN\n",
              "17       03/31/2021      22:20  ...                 NaN                 NaN\n",
              "18       04/06/2021      22:58  ...                 NaN                 NaN\n",
              "...             ...        ...  ...                 ...                 ...\n",
              "1823531  07/07/2012      17:35  ...                 NaN                 NaN\n",
              "1823532  07/06/2012      15:09  ...                 NaN                 NaN\n",
              "1823533  07/03/2012      17:30  ...                 NaN                 NaN\n",
              "1823534  07/01/2012      15:30  ...                 NaN                 NaN\n",
              "1823536  07/05/2012      23:00  ...                 NaN                 NaN\n",
              "\n",
              "[1291828 rows x 29 columns]"
            ]
          },
          "metadata": {}
        }
      ]
    },
    {
      "cell_type": "markdown",
      "metadata": {
        "id": "nKOam-coglMs"
      },
      "source": [
        "### Data Visualizations"
      ]
    },
    {
      "cell_type": "code",
      "metadata": {
        "colab": {
          "base_uri": "https://localhost:8080/"
        },
        "id": "UijOpY1vMrrF",
        "outputId": "83b7dd19-5b7e-45bf-f93c-adb4215975be"
      },
      "source": [
        "#Analyzing Data\n",
        "print(\"Pie Chart\")\n",
        "#pieChart(data)\n",
        "\n",
        "print(\"Bar Chart\")\n",
        "#barChart(data)\n",
        "\n",
        "print(\"Heat Map\")\n",
        "#heatmap(data)\n",
        "\n",
        "#association_analysis(data)"
      ],
      "execution_count": null,
      "outputs": [
        {
          "output_type": "stream",
          "name": "stdout",
          "text": [
            "Pie Chart\n",
            "Bar Chart\n",
            "Heat Map\n"
          ]
        }
      ]
    },
    {
      "cell_type": "markdown",
      "metadata": {
        "id": "Bo6-g_Tde5j4"
      },
      "source": [
        "### MANASA"
      ]
    },
    {
      "cell_type": "code",
      "metadata": {
        "colab": {
          "base_uri": "https://localhost:8080/"
        },
        "id": "qpcKlALQfcnA",
        "outputId": "28aea3c2-98df-4d0d-a869-e70daf477c87"
      },
      "source": [
        "from google.colab import drive\n",
        "drive.mount('/content/drive')"
      ],
      "execution_count": 50,
      "outputs": [
        {
          "output_type": "stream",
          "name": "stdout",
          "text": [
            "Drive already mounted at /content/drive; to attempt to forcibly remount, call drive.mount(\"/content/drive\", force_remount=True).\n"
          ]
        }
      ]
    },
    {
      "cell_type": "code",
      "metadata": {
        "colab": {
          "base_uri": "https://localhost:8080/",
          "height": 496
        },
        "id": "geYf8jS5e8wX",
        "outputId": "58202c79-a888-4d68-dde2-010372433f36"
      },
      "source": [
        "import pandas as pd\n",
        "data=pd.read_csv('/content/drive/Shareddrives/CMPE_255/255_Project/motor_vehicle_collisions_crashes.csv')\n",
        "data.head(5)"
      ],
      "execution_count": 51,
      "outputs": [
        {
          "output_type": "stream",
          "name": "stderr",
          "text": [
            "/usr/local/lib/python3.7/dist-packages/IPython/core/interactiveshell.py:2718: DtypeWarning: Columns (3) have mixed types.Specify dtype option on import or set low_memory=False.\n",
            "  interactivity=interactivity, compiler=compiler, result=result)\n"
          ]
        },
        {
          "output_type": "execute_result",
          "data": {
            "text/html": [
              "<div>\n",
              "<style scoped>\n",
              "    .dataframe tbody tr th:only-of-type {\n",
              "        vertical-align: middle;\n",
              "    }\n",
              "\n",
              "    .dataframe tbody tr th {\n",
              "        vertical-align: top;\n",
              "    }\n",
              "\n",
              "    .dataframe thead th {\n",
              "        text-align: right;\n",
              "    }\n",
              "</style>\n",
              "<table border=\"1\" class=\"dataframe\">\n",
              "  <thead>\n",
              "    <tr style=\"text-align: right;\">\n",
              "      <th></th>\n",
              "      <th>CRASH DATE</th>\n",
              "      <th>CRASH TIME</th>\n",
              "      <th>BOROUGH</th>\n",
              "      <th>ZIP CODE</th>\n",
              "      <th>LATITUDE</th>\n",
              "      <th>LONGITUDE</th>\n",
              "      <th>LOCATION</th>\n",
              "      <th>ON STREET NAME</th>\n",
              "      <th>CROSS STREET NAME</th>\n",
              "      <th>OFF STREET NAME</th>\n",
              "      <th>NUMBER OF PERSONS INJURED</th>\n",
              "      <th>NUMBER OF PERSONS KILLED</th>\n",
              "      <th>NUMBER OF PEDESTRIANS INJURED</th>\n",
              "      <th>NUMBER OF PEDESTRIANS KILLED</th>\n",
              "      <th>NUMBER OF CYCLIST INJURED</th>\n",
              "      <th>NUMBER OF CYCLIST KILLED</th>\n",
              "      <th>NUMBER OF MOTORIST INJURED</th>\n",
              "      <th>NUMBER OF MOTORIST KILLED</th>\n",
              "      <th>CONTRIBUTING FACTOR VEHICLE 1</th>\n",
              "      <th>CONTRIBUTING FACTOR VEHICLE 2</th>\n",
              "      <th>CONTRIBUTING FACTOR VEHICLE 3</th>\n",
              "      <th>CONTRIBUTING FACTOR VEHICLE 4</th>\n",
              "      <th>CONTRIBUTING FACTOR VEHICLE 5</th>\n",
              "      <th>COLLISION_ID</th>\n",
              "      <th>VEHICLE TYPE CODE 1</th>\n",
              "      <th>VEHICLE TYPE CODE 2</th>\n",
              "      <th>VEHICLE TYPE CODE 3</th>\n",
              "      <th>VEHICLE TYPE CODE 4</th>\n",
              "      <th>VEHICLE TYPE CODE 5</th>\n",
              "    </tr>\n",
              "  </thead>\n",
              "  <tbody>\n",
              "    <tr>\n",
              "      <th>0</th>\n",
              "      <td>04/14/2021</td>\n",
              "      <td>5:32</td>\n",
              "      <td>NaN</td>\n",
              "      <td>NaN</td>\n",
              "      <td>NaN</td>\n",
              "      <td>NaN</td>\n",
              "      <td>NaN</td>\n",
              "      <td>BRONX WHITESTONE BRIDGE</td>\n",
              "      <td>NaN</td>\n",
              "      <td>NaN</td>\n",
              "      <td>0.0</td>\n",
              "      <td>0.0</td>\n",
              "      <td>0</td>\n",
              "      <td>0</td>\n",
              "      <td>0</td>\n",
              "      <td>0</td>\n",
              "      <td>0</td>\n",
              "      <td>0</td>\n",
              "      <td>Following Too Closely</td>\n",
              "      <td>Unspecified</td>\n",
              "      <td>NaN</td>\n",
              "      <td>NaN</td>\n",
              "      <td>NaN</td>\n",
              "      <td>4407480</td>\n",
              "      <td>Sedan</td>\n",
              "      <td>Sedan</td>\n",
              "      <td>NaN</td>\n",
              "      <td>NaN</td>\n",
              "      <td>NaN</td>\n",
              "    </tr>\n",
              "    <tr>\n",
              "      <th>1</th>\n",
              "      <td>04/13/2021</td>\n",
              "      <td>21:35</td>\n",
              "      <td>BROOKLYN</td>\n",
              "      <td>11217</td>\n",
              "      <td>40.68358</td>\n",
              "      <td>-73.97617</td>\n",
              "      <td>(40.68358, -73.97617)</td>\n",
              "      <td>NaN</td>\n",
              "      <td>NaN</td>\n",
              "      <td>620       ATLANTIC AVENUE</td>\n",
              "      <td>1.0</td>\n",
              "      <td>0.0</td>\n",
              "      <td>1</td>\n",
              "      <td>0</td>\n",
              "      <td>0</td>\n",
              "      <td>0</td>\n",
              "      <td>0</td>\n",
              "      <td>0</td>\n",
              "      <td>Unspecified</td>\n",
              "      <td>NaN</td>\n",
              "      <td>NaN</td>\n",
              "      <td>NaN</td>\n",
              "      <td>NaN</td>\n",
              "      <td>4407147</td>\n",
              "      <td>Sedan</td>\n",
              "      <td>NaN</td>\n",
              "      <td>NaN</td>\n",
              "      <td>NaN</td>\n",
              "      <td>NaN</td>\n",
              "    </tr>\n",
              "    <tr>\n",
              "      <th>2</th>\n",
              "      <td>04/15/2021</td>\n",
              "      <td>16:15</td>\n",
              "      <td>NaN</td>\n",
              "      <td>NaN</td>\n",
              "      <td>NaN</td>\n",
              "      <td>NaN</td>\n",
              "      <td>NaN</td>\n",
              "      <td>HUTCHINSON RIVER PARKWAY</td>\n",
              "      <td>NaN</td>\n",
              "      <td>NaN</td>\n",
              "      <td>0.0</td>\n",
              "      <td>0.0</td>\n",
              "      <td>0</td>\n",
              "      <td>0</td>\n",
              "      <td>0</td>\n",
              "      <td>0</td>\n",
              "      <td>0</td>\n",
              "      <td>0</td>\n",
              "      <td>Pavement Slippery</td>\n",
              "      <td>NaN</td>\n",
              "      <td>NaN</td>\n",
              "      <td>NaN</td>\n",
              "      <td>NaN</td>\n",
              "      <td>4407665</td>\n",
              "      <td>Station Wagon/Sport Utility Vehicle</td>\n",
              "      <td>NaN</td>\n",
              "      <td>NaN</td>\n",
              "      <td>NaN</td>\n",
              "      <td>NaN</td>\n",
              "    </tr>\n",
              "    <tr>\n",
              "      <th>3</th>\n",
              "      <td>04/13/2021</td>\n",
              "      <td>16:00</td>\n",
              "      <td>BROOKLYN</td>\n",
              "      <td>11222</td>\n",
              "      <td>NaN</td>\n",
              "      <td>NaN</td>\n",
              "      <td>NaN</td>\n",
              "      <td>VANDERVORT AVENUE</td>\n",
              "      <td>ANTHONY STREET</td>\n",
              "      <td>NaN</td>\n",
              "      <td>0.0</td>\n",
              "      <td>0.0</td>\n",
              "      <td>0</td>\n",
              "      <td>0</td>\n",
              "      <td>0</td>\n",
              "      <td>0</td>\n",
              "      <td>0</td>\n",
              "      <td>0</td>\n",
              "      <td>Following Too Closely</td>\n",
              "      <td>Unspecified</td>\n",
              "      <td>NaN</td>\n",
              "      <td>NaN</td>\n",
              "      <td>NaN</td>\n",
              "      <td>4407811</td>\n",
              "      <td>Sedan</td>\n",
              "      <td>NaN</td>\n",
              "      <td>NaN</td>\n",
              "      <td>NaN</td>\n",
              "      <td>NaN</td>\n",
              "    </tr>\n",
              "    <tr>\n",
              "      <th>4</th>\n",
              "      <td>04/12/2021</td>\n",
              "      <td>8:25</td>\n",
              "      <td>NaN</td>\n",
              "      <td>NaN</td>\n",
              "      <td>0.00000</td>\n",
              "      <td>0.00000</td>\n",
              "      <td>(0.0, 0.0)</td>\n",
              "      <td>EDSON AVENUE</td>\n",
              "      <td>NaN</td>\n",
              "      <td>NaN</td>\n",
              "      <td>0.0</td>\n",
              "      <td>0.0</td>\n",
              "      <td>0</td>\n",
              "      <td>0</td>\n",
              "      <td>0</td>\n",
              "      <td>0</td>\n",
              "      <td>0</td>\n",
              "      <td>0</td>\n",
              "      <td>Unspecified</td>\n",
              "      <td>Unspecified</td>\n",
              "      <td>NaN</td>\n",
              "      <td>NaN</td>\n",
              "      <td>NaN</td>\n",
              "      <td>4406885</td>\n",
              "      <td>Station Wagon/Sport Utility Vehicle</td>\n",
              "      <td>Sedan</td>\n",
              "      <td>NaN</td>\n",
              "      <td>NaN</td>\n",
              "      <td>NaN</td>\n",
              "    </tr>\n",
              "  </tbody>\n",
              "</table>\n",
              "</div>"
            ],
            "text/plain": [
              "   CRASH DATE CRASH TIME  ... VEHICLE TYPE CODE 4 VEHICLE TYPE CODE 5\n",
              "0  04/14/2021       5:32  ...                 NaN                 NaN\n",
              "1  04/13/2021      21:35  ...                 NaN                 NaN\n",
              "2  04/15/2021      16:15  ...                 NaN                 NaN\n",
              "3  04/13/2021      16:00  ...                 NaN                 NaN\n",
              "4  04/12/2021       8:25  ...                 NaN                 NaN\n",
              "\n",
              "[5 rows x 29 columns]"
            ]
          },
          "metadata": {},
          "execution_count": 51
        }
      ]
    },
    {
      "cell_type": "code",
      "metadata": {
        "id": "8S3u6KskfvFr",
        "colab": {
          "base_uri": "https://localhost:8080/"
        },
        "outputId": "887c2708-cd0e-43d3-c533-35d42bf3ec93"
      },
      "source": [
        "data.isna().sum()"
      ],
      "execution_count": 52,
      "outputs": [
        {
          "output_type": "execute_result",
          "data": {
            "text/plain": [
              "CRASH DATE                             0\n",
              "CRASH TIME                             0\n",
              "BOROUGH                           562783\n",
              "ZIP CODE                          563002\n",
              "LATITUDE                          213787\n",
              "LONGITUDE                         213787\n",
              "LOCATION                          213787\n",
              "ON STREET NAME                    371730\n",
              "CROSS STREET NAME                 652865\n",
              "OFF STREET NAME                  1544176\n",
              "NUMBER OF PERSONS INJURED             18\n",
              "NUMBER OF PERSONS KILLED              31\n",
              "NUMBER OF PEDESTRIANS INJURED          0\n",
              "NUMBER OF PEDESTRIANS KILLED           0\n",
              "NUMBER OF CYCLIST INJURED              0\n",
              "NUMBER OF CYCLIST KILLED               0\n",
              "NUMBER OF MOTORIST INJURED             0\n",
              "NUMBER OF MOTORIST KILLED              0\n",
              "CONTRIBUTING FACTOR VEHICLE 1       5205\n",
              "CONTRIBUTING FACTOR VEHICLE 2     262800\n",
              "CONTRIBUTING FACTOR VEHICLE 3    1699094\n",
              "CONTRIBUTING FACTOR VEHICLE 4    1796391\n",
              "CONTRIBUTING FACTOR VEHICLE 5    1816356\n",
              "COLLISION_ID                           0\n",
              "VEHICLE TYPE CODE 1                 9887\n",
              "VEHICLE TYPE CODE 2               311336\n",
              "VEHICLE TYPE CODE 3              1702736\n",
              "VEHICLE TYPE CODE 4              1797199\n",
              "VEHICLE TYPE CODE 5              1816552\n",
              "dtype: int64"
            ]
          },
          "metadata": {},
          "execution_count": 52
        }
      ]
    },
    {
      "cell_type": "code",
      "metadata": {
        "id": "F7VCL-K0NW8i"
      },
      "source": [
        "data=data.drop(columns=['VEHICLE TYPE CODE 5','VEHICLE TYPE CODE 4','VEHICLE TYPE CODE 3','CONTRIBUTING FACTOR VEHICLE 5','CONTRIBUTING FACTOR VEHICLE 4','CONTRIBUTING FACTOR VEHICLE 3','OFF STREET NAME','CONTRIBUTING FACTOR VEHICLE 1','CONTRIBUTING FACTOR VEHICLE 2','VEHICLE TYPE CODE 1','VEHICLE TYPE CODE 2'])"
      ],
      "execution_count": 53,
      "outputs": []
    },
    {
      "cell_type": "code",
      "metadata": {
        "id": "6llU7Qd2MHDt"
      },
      "source": [
        "half_df = len(data) // 2\n",
        "first_df= data.iloc[:half_df,]\n",
        "k=len(first_df)//2\n",
        "second_df=first_df.iloc[:k,]\n",
        "l=len(second_df)//2\n",
        "final_df=second_df.iloc[:l,]"
      ],
      "execution_count": 54,
      "outputs": []
    },
    {
      "cell_type": "code",
      "metadata": {
        "colab": {
          "base_uri": "https://localhost:8080/"
        },
        "id": "IYv6v1fhMP-Z",
        "outputId": "c625f00e-2dc3-4e36-e00a-3c656d9ea4f7"
      },
      "source": [
        "index = final_df.index\n",
        "number_of_rows = len(index)\n",
        "print(number_of_rows)"
      ],
      "execution_count": 55,
      "outputs": [
        {
          "output_type": "stream",
          "name": "stdout",
          "text": [
            "227942\n"
          ]
        }
      ]
    },
    {
      "cell_type": "code",
      "metadata": {
        "colab": {
          "base_uri": "https://localhost:8080/",
          "height": 694
        },
        "id": "BpTYfaIGielA",
        "outputId": "842f9d45-2766-4b92-c7f3-8fd4b0465072"
      },
      "source": [
        "final_df.fillna(0)"
      ],
      "execution_count": 56,
      "outputs": [
        {
          "output_type": "execute_result",
          "data": {
            "text/html": [
              "<div>\n",
              "<style scoped>\n",
              "    .dataframe tbody tr th:only-of-type {\n",
              "        vertical-align: middle;\n",
              "    }\n",
              "\n",
              "    .dataframe tbody tr th {\n",
              "        vertical-align: top;\n",
              "    }\n",
              "\n",
              "    .dataframe thead th {\n",
              "        text-align: right;\n",
              "    }\n",
              "</style>\n",
              "<table border=\"1\" class=\"dataframe\">\n",
              "  <thead>\n",
              "    <tr style=\"text-align: right;\">\n",
              "      <th></th>\n",
              "      <th>CRASH DATE</th>\n",
              "      <th>CRASH TIME</th>\n",
              "      <th>BOROUGH</th>\n",
              "      <th>ZIP CODE</th>\n",
              "      <th>LATITUDE</th>\n",
              "      <th>LONGITUDE</th>\n",
              "      <th>LOCATION</th>\n",
              "      <th>ON STREET NAME</th>\n",
              "      <th>CROSS STREET NAME</th>\n",
              "      <th>NUMBER OF PERSONS INJURED</th>\n",
              "      <th>NUMBER OF PERSONS KILLED</th>\n",
              "      <th>NUMBER OF PEDESTRIANS INJURED</th>\n",
              "      <th>NUMBER OF PEDESTRIANS KILLED</th>\n",
              "      <th>NUMBER OF CYCLIST INJURED</th>\n",
              "      <th>NUMBER OF CYCLIST KILLED</th>\n",
              "      <th>NUMBER OF MOTORIST INJURED</th>\n",
              "      <th>NUMBER OF MOTORIST KILLED</th>\n",
              "      <th>COLLISION_ID</th>\n",
              "    </tr>\n",
              "  </thead>\n",
              "  <tbody>\n",
              "    <tr>\n",
              "      <th>0</th>\n",
              "      <td>04/14/2021</td>\n",
              "      <td>5:32</td>\n",
              "      <td>0</td>\n",
              "      <td>0.0</td>\n",
              "      <td>0.000000</td>\n",
              "      <td>0.00000</td>\n",
              "      <td>0</td>\n",
              "      <td>BRONX WHITESTONE BRIDGE</td>\n",
              "      <td>0</td>\n",
              "      <td>0.0</td>\n",
              "      <td>0.0</td>\n",
              "      <td>0</td>\n",
              "      <td>0</td>\n",
              "      <td>0</td>\n",
              "      <td>0</td>\n",
              "      <td>0</td>\n",
              "      <td>0</td>\n",
              "      <td>4407480</td>\n",
              "    </tr>\n",
              "    <tr>\n",
              "      <th>1</th>\n",
              "      <td>04/13/2021</td>\n",
              "      <td>21:35</td>\n",
              "      <td>BROOKLYN</td>\n",
              "      <td>11217.0</td>\n",
              "      <td>40.683580</td>\n",
              "      <td>-73.97617</td>\n",
              "      <td>(40.68358, -73.97617)</td>\n",
              "      <td>0</td>\n",
              "      <td>0</td>\n",
              "      <td>1.0</td>\n",
              "      <td>0.0</td>\n",
              "      <td>1</td>\n",
              "      <td>0</td>\n",
              "      <td>0</td>\n",
              "      <td>0</td>\n",
              "      <td>0</td>\n",
              "      <td>0</td>\n",
              "      <td>4407147</td>\n",
              "    </tr>\n",
              "    <tr>\n",
              "      <th>2</th>\n",
              "      <td>04/15/2021</td>\n",
              "      <td>16:15</td>\n",
              "      <td>0</td>\n",
              "      <td>0.0</td>\n",
              "      <td>0.000000</td>\n",
              "      <td>0.00000</td>\n",
              "      <td>0</td>\n",
              "      <td>HUTCHINSON RIVER PARKWAY</td>\n",
              "      <td>0</td>\n",
              "      <td>0.0</td>\n",
              "      <td>0.0</td>\n",
              "      <td>0</td>\n",
              "      <td>0</td>\n",
              "      <td>0</td>\n",
              "      <td>0</td>\n",
              "      <td>0</td>\n",
              "      <td>0</td>\n",
              "      <td>4407665</td>\n",
              "    </tr>\n",
              "    <tr>\n",
              "      <th>3</th>\n",
              "      <td>04/13/2021</td>\n",
              "      <td>16:00</td>\n",
              "      <td>BROOKLYN</td>\n",
              "      <td>11222.0</td>\n",
              "      <td>0.000000</td>\n",
              "      <td>0.00000</td>\n",
              "      <td>0</td>\n",
              "      <td>VANDERVORT AVENUE</td>\n",
              "      <td>ANTHONY STREET</td>\n",
              "      <td>0.0</td>\n",
              "      <td>0.0</td>\n",
              "      <td>0</td>\n",
              "      <td>0</td>\n",
              "      <td>0</td>\n",
              "      <td>0</td>\n",
              "      <td>0</td>\n",
              "      <td>0</td>\n",
              "      <td>4407811</td>\n",
              "    </tr>\n",
              "    <tr>\n",
              "      <th>4</th>\n",
              "      <td>04/12/2021</td>\n",
              "      <td>8:25</td>\n",
              "      <td>0</td>\n",
              "      <td>0.0</td>\n",
              "      <td>0.000000</td>\n",
              "      <td>0.00000</td>\n",
              "      <td>(0.0, 0.0)</td>\n",
              "      <td>EDSON AVENUE</td>\n",
              "      <td>0</td>\n",
              "      <td>0.0</td>\n",
              "      <td>0.0</td>\n",
              "      <td>0</td>\n",
              "      <td>0</td>\n",
              "      <td>0</td>\n",
              "      <td>0</td>\n",
              "      <td>0</td>\n",
              "      <td>0</td>\n",
              "      <td>4406885</td>\n",
              "    </tr>\n",
              "    <tr>\n",
              "      <th>...</th>\n",
              "      <td>...</td>\n",
              "      <td>...</td>\n",
              "      <td>...</td>\n",
              "      <td>...</td>\n",
              "      <td>...</td>\n",
              "      <td>...</td>\n",
              "      <td>...</td>\n",
              "      <td>...</td>\n",
              "      <td>...</td>\n",
              "      <td>...</td>\n",
              "      <td>...</td>\n",
              "      <td>...</td>\n",
              "      <td>...</td>\n",
              "      <td>...</td>\n",
              "      <td>...</td>\n",
              "      <td>...</td>\n",
              "      <td>...</td>\n",
              "      <td>...</td>\n",
              "    </tr>\n",
              "    <tr>\n",
              "      <th>227937</th>\n",
              "      <td>10/23/2019</td>\n",
              "      <td>18:20</td>\n",
              "      <td>0</td>\n",
              "      <td>0.0</td>\n",
              "      <td>40.765675</td>\n",
              "      <td>-73.97624</td>\n",
              "      <td>(40.765675, -73.97624)</td>\n",
              "      <td>0</td>\n",
              "      <td>0</td>\n",
              "      <td>0.0</td>\n",
              "      <td>0.0</td>\n",
              "      <td>0</td>\n",
              "      <td>0</td>\n",
              "      <td>0</td>\n",
              "      <td>0</td>\n",
              "      <td>0</td>\n",
              "      <td>0</td>\n",
              "      <td>4228328</td>\n",
              "    </tr>\n",
              "    <tr>\n",
              "      <th>227938</th>\n",
              "      <td>10/17/2019</td>\n",
              "      <td>11:20</td>\n",
              "      <td>0</td>\n",
              "      <td>0.0</td>\n",
              "      <td>40.738457</td>\n",
              "      <td>-73.93981</td>\n",
              "      <td>(40.738457, -73.93981)</td>\n",
              "      <td>BORDEN AVENUE</td>\n",
              "      <td>29 STREET</td>\n",
              "      <td>0.0</td>\n",
              "      <td>0.0</td>\n",
              "      <td>0</td>\n",
              "      <td>0</td>\n",
              "      <td>0</td>\n",
              "      <td>0</td>\n",
              "      <td>0</td>\n",
              "      <td>0</td>\n",
              "      <td>4224773</td>\n",
              "    </tr>\n",
              "    <tr>\n",
              "      <th>227939</th>\n",
              "      <td>11/08/2019</td>\n",
              "      <td>14:30</td>\n",
              "      <td>MANHATTAN</td>\n",
              "      <td>10029.0</td>\n",
              "      <td>40.783930</td>\n",
              "      <td>-73.94423</td>\n",
              "      <td>(40.78393, -73.94423)</td>\n",
              "      <td>EAST 97 STREET</td>\n",
              "      <td>1 AVENUE</td>\n",
              "      <td>0.0</td>\n",
              "      <td>0.0</td>\n",
              "      <td>0</td>\n",
              "      <td>0</td>\n",
              "      <td>0</td>\n",
              "      <td>0</td>\n",
              "      <td>0</td>\n",
              "      <td>0</td>\n",
              "      <td>4239798</td>\n",
              "    </tr>\n",
              "    <tr>\n",
              "      <th>227940</th>\n",
              "      <td>11/02/2019</td>\n",
              "      <td>23:00</td>\n",
              "      <td>QUEENS</td>\n",
              "      <td>11101.0</td>\n",
              "      <td>40.750240</td>\n",
              "      <td>-73.94208</td>\n",
              "      <td>(40.75024, -73.94208)</td>\n",
              "      <td>42 ROAD</td>\n",
              "      <td>24 STREET</td>\n",
              "      <td>0.0</td>\n",
              "      <td>0.0</td>\n",
              "      <td>0</td>\n",
              "      <td>0</td>\n",
              "      <td>0</td>\n",
              "      <td>0</td>\n",
              "      <td>0</td>\n",
              "      <td>0</td>\n",
              "      <td>4234257</td>\n",
              "    </tr>\n",
              "    <tr>\n",
              "      <th>227941</th>\n",
              "      <td>10/18/2019</td>\n",
              "      <td>7:30</td>\n",
              "      <td>MANHATTAN</td>\n",
              "      <td>10029.0</td>\n",
              "      <td>40.794907</td>\n",
              "      <td>-73.94856</td>\n",
              "      <td>(40.794907, -73.94856)</td>\n",
              "      <td>EAST 108 STREET</td>\n",
              "      <td>MADISON AVENUE</td>\n",
              "      <td>0.0</td>\n",
              "      <td>0.0</td>\n",
              "      <td>0</td>\n",
              "      <td>0</td>\n",
              "      <td>0</td>\n",
              "      <td>0</td>\n",
              "      <td>0</td>\n",
              "      <td>0</td>\n",
              "      <td>4226627</td>\n",
              "    </tr>\n",
              "  </tbody>\n",
              "</table>\n",
              "<p>227942 rows × 18 columns</p>\n",
              "</div>"
            ],
            "text/plain": [
              "        CRASH DATE CRASH TIME  ... NUMBER OF MOTORIST KILLED  COLLISION_ID\n",
              "0       04/14/2021       5:32  ...                         0       4407480\n",
              "1       04/13/2021      21:35  ...                         0       4407147\n",
              "2       04/15/2021      16:15  ...                         0       4407665\n",
              "3       04/13/2021      16:00  ...                         0       4407811\n",
              "4       04/12/2021       8:25  ...                         0       4406885\n",
              "...            ...        ...  ...                       ...           ...\n",
              "227937  10/23/2019      18:20  ...                         0       4228328\n",
              "227938  10/17/2019      11:20  ...                         0       4224773\n",
              "227939  11/08/2019      14:30  ...                         0       4239798\n",
              "227940  11/02/2019      23:00  ...                         0       4234257\n",
              "227941  10/18/2019       7:30  ...                         0       4226627\n",
              "\n",
              "[227942 rows x 18 columns]"
            ]
          },
          "metadata": {},
          "execution_count": 56
        }
      ]
    },
    {
      "cell_type": "code",
      "metadata": {
        "colab": {
          "base_uri": "https://localhost:8080/"
        },
        "id": "z4hhXg8HmrJG",
        "outputId": "9239b660-0cf5-46e0-c772-a4122352ed45"
      },
      "source": [
        "dataTypeSeries = final_df.dtypes\n",
        "print(dataTypeSeries)"
      ],
      "execution_count": 57,
      "outputs": [
        {
          "output_type": "stream",
          "name": "stdout",
          "text": [
            "CRASH DATE                        object\n",
            "CRASH TIME                        object\n",
            "BOROUGH                           object\n",
            "ZIP CODE                          object\n",
            "LATITUDE                         float64\n",
            "LONGITUDE                        float64\n",
            "LOCATION                          object\n",
            "ON STREET NAME                    object\n",
            "CROSS STREET NAME                 object\n",
            "NUMBER OF PERSONS INJURED        float64\n",
            "NUMBER OF PERSONS KILLED         float64\n",
            "NUMBER OF PEDESTRIANS INJURED      int64\n",
            "NUMBER OF PEDESTRIANS KILLED       int64\n",
            "NUMBER OF CYCLIST INJURED          int64\n",
            "NUMBER OF CYCLIST KILLED           int64\n",
            "NUMBER OF MOTORIST INJURED         int64\n",
            "NUMBER OF MOTORIST KILLED          int64\n",
            "COLLISION_ID                       int64\n",
            "dtype: object\n"
          ]
        }
      ]
    },
    {
      "cell_type": "code",
      "metadata": {
        "id": "eQgDD-hRCw1h",
        "colab": {
          "base_uri": "https://localhost:8080/"
        },
        "outputId": "5e793197-500e-4283-dc66-db7eec19d2fc"
      },
      "source": [
        "from sklearn import preprocessing\n",
        "lbl = preprocessing.LabelEncoder()\n",
        "final_df['CRASH DATE'] = lbl.fit_transform(final_df['CRASH DATE'].astype(str))\n",
        "final_df['CRASH TIME'] = lbl.fit_transform(final_df['CRASH TIME'].astype(str))\n",
        "final_df['BOROUGH'] = lbl.fit_transform(final_df['BOROUGH'].astype(str))\n",
        "final_df['ZIP CODE'] = lbl.fit_transform(final_df['ZIP CODE'].astype(str))\n",
        "final_df['LOCATION'] = lbl.fit_transform(final_df['LOCATION'].astype(str))\n",
        "final_df['ON STREET NAME'] = lbl.fit_transform(final_df['ON STREET NAME'].astype(str))\n",
        "final_df['CROSS STREET NAME'] = lbl.fit_transform(final_df['CROSS STREET NAME'].astype(str))\n",
        "\n"
      ],
      "execution_count": 58,
      "outputs": [
        {
          "output_type": "stream",
          "name": "stderr",
          "text": [
            "/usr/local/lib/python3.7/dist-packages/ipykernel_launcher.py:3: SettingWithCopyWarning: \n",
            "A value is trying to be set on a copy of a slice from a DataFrame.\n",
            "Try using .loc[row_indexer,col_indexer] = value instead\n",
            "\n",
            "See the caveats in the documentation: https://pandas.pydata.org/pandas-docs/stable/user_guide/indexing.html#returning-a-view-versus-a-copy\n",
            "  This is separate from the ipykernel package so we can avoid doing imports until\n",
            "/usr/local/lib/python3.7/dist-packages/ipykernel_launcher.py:4: SettingWithCopyWarning: \n",
            "A value is trying to be set on a copy of a slice from a DataFrame.\n",
            "Try using .loc[row_indexer,col_indexer] = value instead\n",
            "\n",
            "See the caveats in the documentation: https://pandas.pydata.org/pandas-docs/stable/user_guide/indexing.html#returning-a-view-versus-a-copy\n",
            "  after removing the cwd from sys.path.\n",
            "/usr/local/lib/python3.7/dist-packages/ipykernel_launcher.py:5: SettingWithCopyWarning: \n",
            "A value is trying to be set on a copy of a slice from a DataFrame.\n",
            "Try using .loc[row_indexer,col_indexer] = value instead\n",
            "\n",
            "See the caveats in the documentation: https://pandas.pydata.org/pandas-docs/stable/user_guide/indexing.html#returning-a-view-versus-a-copy\n",
            "  \"\"\"\n",
            "/usr/local/lib/python3.7/dist-packages/ipykernel_launcher.py:6: SettingWithCopyWarning: \n",
            "A value is trying to be set on a copy of a slice from a DataFrame.\n",
            "Try using .loc[row_indexer,col_indexer] = value instead\n",
            "\n",
            "See the caveats in the documentation: https://pandas.pydata.org/pandas-docs/stable/user_guide/indexing.html#returning-a-view-versus-a-copy\n",
            "  \n",
            "/usr/local/lib/python3.7/dist-packages/ipykernel_launcher.py:7: SettingWithCopyWarning: \n",
            "A value is trying to be set on a copy of a slice from a DataFrame.\n",
            "Try using .loc[row_indexer,col_indexer] = value instead\n",
            "\n",
            "See the caveats in the documentation: https://pandas.pydata.org/pandas-docs/stable/user_guide/indexing.html#returning-a-view-versus-a-copy\n",
            "  import sys\n",
            "/usr/local/lib/python3.7/dist-packages/ipykernel_launcher.py:8: SettingWithCopyWarning: \n",
            "A value is trying to be set on a copy of a slice from a DataFrame.\n",
            "Try using .loc[row_indexer,col_indexer] = value instead\n",
            "\n",
            "See the caveats in the documentation: https://pandas.pydata.org/pandas-docs/stable/user_guide/indexing.html#returning-a-view-versus-a-copy\n",
            "  \n",
            "/usr/local/lib/python3.7/dist-packages/ipykernel_launcher.py:9: SettingWithCopyWarning: \n",
            "A value is trying to be set on a copy of a slice from a DataFrame.\n",
            "Try using .loc[row_indexer,col_indexer] = value instead\n",
            "\n",
            "See the caveats in the documentation: https://pandas.pydata.org/pandas-docs/stable/user_guide/indexing.html#returning-a-view-versus-a-copy\n",
            "  if __name__ == '__main__':\n"
          ]
        }
      ]
    },
    {
      "cell_type": "code",
      "metadata": {
        "colab": {
          "base_uri": "https://localhost:8080/"
        },
        "id": "Jg0HwisdFb93",
        "outputId": "e2e6d5d9-4b0a-46e7-9b5f-7be922bd0235"
      },
      "source": [
        "dataTypeSeries = final_df.dtypes\n",
        "print(dataTypeSeries)"
      ],
      "execution_count": 59,
      "outputs": [
        {
          "output_type": "stream",
          "name": "stdout",
          "text": [
            "CRASH DATE                         int64\n",
            "CRASH TIME                         int64\n",
            "BOROUGH                            int64\n",
            "ZIP CODE                           int64\n",
            "LATITUDE                         float64\n",
            "LONGITUDE                        float64\n",
            "LOCATION                           int64\n",
            "ON STREET NAME                     int64\n",
            "CROSS STREET NAME                  int64\n",
            "NUMBER OF PERSONS INJURED        float64\n",
            "NUMBER OF PERSONS KILLED         float64\n",
            "NUMBER OF PEDESTRIANS INJURED      int64\n",
            "NUMBER OF PEDESTRIANS KILLED       int64\n",
            "NUMBER OF CYCLIST INJURED          int64\n",
            "NUMBER OF CYCLIST KILLED           int64\n",
            "NUMBER OF MOTORIST INJURED         int64\n",
            "NUMBER OF MOTORIST KILLED          int64\n",
            "COLLISION_ID                       int64\n",
            "dtype: object\n"
          ]
        }
      ]
    },
    {
      "cell_type": "code",
      "metadata": {
        "colab": {
          "base_uri": "https://localhost:8080/",
          "height": 575
        },
        "id": "bCZfu-utG1jF",
        "outputId": "6f92c0ad-9df9-4c93-e75d-7ef8f3eaec88"
      },
      "source": [
        "final_df.fillna(0,inplace=True)\n",
        "final_df.astype(int)\n",
        "\n"
      ],
      "execution_count": 60,
      "outputs": [
        {
          "output_type": "stream",
          "name": "stderr",
          "text": [
            "/usr/local/lib/python3.7/dist-packages/pandas/core/frame.py:4327: SettingWithCopyWarning: \n",
            "A value is trying to be set on a copy of a slice from a DataFrame\n",
            "\n",
            "See the caveats in the documentation: https://pandas.pydata.org/pandas-docs/stable/user_guide/indexing.html#returning-a-view-versus-a-copy\n",
            "  downcast=downcast,\n"
          ]
        },
        {
          "output_type": "execute_result",
          "data": {
            "text/html": [
              "<div>\n",
              "<style scoped>\n",
              "    .dataframe tbody tr th:only-of-type {\n",
              "        vertical-align: middle;\n",
              "    }\n",
              "\n",
              "    .dataframe tbody tr th {\n",
              "        vertical-align: top;\n",
              "    }\n",
              "\n",
              "    .dataframe thead th {\n",
              "        text-align: right;\n",
              "    }\n",
              "</style>\n",
              "<table border=\"1\" class=\"dataframe\">\n",
              "  <thead>\n",
              "    <tr style=\"text-align: right;\">\n",
              "      <th></th>\n",
              "      <th>CRASH DATE</th>\n",
              "      <th>CRASH TIME</th>\n",
              "      <th>BOROUGH</th>\n",
              "      <th>ZIP CODE</th>\n",
              "      <th>LATITUDE</th>\n",
              "      <th>LONGITUDE</th>\n",
              "      <th>LOCATION</th>\n",
              "      <th>ON STREET NAME</th>\n",
              "      <th>CROSS STREET NAME</th>\n",
              "      <th>NUMBER OF PERSONS INJURED</th>\n",
              "      <th>NUMBER OF PERSONS KILLED</th>\n",
              "      <th>NUMBER OF PEDESTRIANS INJURED</th>\n",
              "      <th>NUMBER OF PEDESTRIANS KILLED</th>\n",
              "      <th>NUMBER OF CYCLIST INJURED</th>\n",
              "      <th>NUMBER OF CYCLIST KILLED</th>\n",
              "      <th>NUMBER OF MOTORIST INJURED</th>\n",
              "      <th>NUMBER OF MOTORIST KILLED</th>\n",
              "      <th>COLLISION_ID</th>\n",
              "    </tr>\n",
              "  </thead>\n",
              "  <tbody>\n",
              "    <tr>\n",
              "      <th>0</th>\n",
              "      <td>236</td>\n",
              "      <td>1172</td>\n",
              "      <td>5</td>\n",
              "      <td>211</td>\n",
              "      <td>0</td>\n",
              "      <td>0</td>\n",
              "      <td>77301</td>\n",
              "      <td>2247</td>\n",
              "      <td>6303</td>\n",
              "      <td>0</td>\n",
              "      <td>0</td>\n",
              "      <td>0</td>\n",
              "      <td>0</td>\n",
              "      <td>0</td>\n",
              "      <td>0</td>\n",
              "      <td>0</td>\n",
              "      <td>0</td>\n",
              "      <td>4407480</td>\n",
              "    </tr>\n",
              "    <tr>\n",
              "      <th>1</th>\n",
              "      <td>233</td>\n",
              "      <td>815</td>\n",
              "      <td>1</td>\n",
              "      <td>133</td>\n",
              "      <td>40</td>\n",
              "      <td>-73</td>\n",
              "      <td>29379</td>\n",
              "      <td>8599</td>\n",
              "      <td>6303</td>\n",
              "      <td>1</td>\n",
              "      <td>0</td>\n",
              "      <td>1</td>\n",
              "      <td>0</td>\n",
              "      <td>0</td>\n",
              "      <td>0</td>\n",
              "      <td>0</td>\n",
              "      <td>0</td>\n",
              "      <td>4407147</td>\n",
              "    </tr>\n",
              "    <tr>\n",
              "      <th>2</th>\n",
              "      <td>239</td>\n",
              "      <td>435</td>\n",
              "      <td>5</td>\n",
              "      <td>211</td>\n",
              "      <td>0</td>\n",
              "      <td>0</td>\n",
              "      <td>77301</td>\n",
              "      <td>4670</td>\n",
              "      <td>6303</td>\n",
              "      <td>0</td>\n",
              "      <td>0</td>\n",
              "      <td>0</td>\n",
              "      <td>0</td>\n",
              "      <td>0</td>\n",
              "      <td>0</td>\n",
              "      <td>0</td>\n",
              "      <td>0</td>\n",
              "      <td>4407665</td>\n",
              "    </tr>\n",
              "    <tr>\n",
              "      <th>3</th>\n",
              "      <td>233</td>\n",
              "      <td>420</td>\n",
              "      <td>1</td>\n",
              "      <td>138</td>\n",
              "      <td>0</td>\n",
              "      <td>0</td>\n",
              "      <td>77301</td>\n",
              "      <td>7406</td>\n",
              "      <td>1022</td>\n",
              "      <td>0</td>\n",
              "      <td>0</td>\n",
              "      <td>0</td>\n",
              "      <td>0</td>\n",
              "      <td>0</td>\n",
              "      <td>0</td>\n",
              "      <td>0</td>\n",
              "      <td>0</td>\n",
              "      <td>4407811</td>\n",
              "    </tr>\n",
              "    <tr>\n",
              "      <th>4</th>\n",
              "      <td>230</td>\n",
              "      <td>1345</td>\n",
              "      <td>5</td>\n",
              "      <td>211</td>\n",
              "      <td>0</td>\n",
              "      <td>0</td>\n",
              "      <td>0</td>\n",
              "      <td>3723</td>\n",
              "      <td>6303</td>\n",
              "      <td>0</td>\n",
              "      <td>0</td>\n",
              "      <td>0</td>\n",
              "      <td>0</td>\n",
              "      <td>0</td>\n",
              "      <td>0</td>\n",
              "      <td>0</td>\n",
              "      <td>0</td>\n",
              "      <td>4406885</td>\n",
              "    </tr>\n",
              "    <tr>\n",
              "      <th>...</th>\n",
              "      <td>...</td>\n",
              "      <td>...</td>\n",
              "      <td>...</td>\n",
              "      <td>...</td>\n",
              "      <td>...</td>\n",
              "      <td>...</td>\n",
              "      <td>...</td>\n",
              "      <td>...</td>\n",
              "      <td>...</td>\n",
              "      <td>...</td>\n",
              "      <td>...</td>\n",
              "      <td>...</td>\n",
              "      <td>...</td>\n",
              "      <td>...</td>\n",
              "      <td>...</td>\n",
              "      <td>...</td>\n",
              "      <td>...</td>\n",
              "      <td>...</td>\n",
              "    </tr>\n",
              "    <tr>\n",
              "      <th>227937</th>\n",
              "      <td>645</td>\n",
              "      <td>560</td>\n",
              "      <td>5</td>\n",
              "      <td>211</td>\n",
              "      <td>40</td>\n",
              "      <td>-73</td>\n",
              "      <td>56831</td>\n",
              "      <td>8599</td>\n",
              "      <td>6303</td>\n",
              "      <td>0</td>\n",
              "      <td>0</td>\n",
              "      <td>0</td>\n",
              "      <td>0</td>\n",
              "      <td>0</td>\n",
              "      <td>0</td>\n",
              "      <td>0</td>\n",
              "      <td>0</td>\n",
              "      <td>4228328</td>\n",
              "    </tr>\n",
              "    <tr>\n",
              "      <th>227938</th>\n",
              "      <td>633</td>\n",
              "      <td>140</td>\n",
              "      <td>5</td>\n",
              "      <td>211</td>\n",
              "      <td>40</td>\n",
              "      <td>-73</td>\n",
              "      <td>47830</td>\n",
              "      <td>2115</td>\n",
              "      <td>531</td>\n",
              "      <td>0</td>\n",
              "      <td>0</td>\n",
              "      <td>0</td>\n",
              "      <td>0</td>\n",
              "      <td>0</td>\n",
              "      <td>0</td>\n",
              "      <td>0</td>\n",
              "      <td>0</td>\n",
              "      <td>4224773</td>\n",
              "    </tr>\n",
              "    <tr>\n",
              "      <th>227939</th>\n",
              "      <td>678</td>\n",
              "      <td>330</td>\n",
              "      <td>2</td>\n",
              "      <td>27</td>\n",
              "      <td>40</td>\n",
              "      <td>-73</td>\n",
              "      <td>59554</td>\n",
              "      <td>3642</td>\n",
              "      <td>3</td>\n",
              "      <td>0</td>\n",
              "      <td>0</td>\n",
              "      <td>0</td>\n",
              "      <td>0</td>\n",
              "      <td>0</td>\n",
              "      <td>0</td>\n",
              "      <td>0</td>\n",
              "      <td>0</td>\n",
              "      <td>4239798</td>\n",
              "    </tr>\n",
              "    <tr>\n",
              "      <th>227940</th>\n",
              "      <td>666</td>\n",
              "      <td>900</td>\n",
              "      <td>3</td>\n",
              "      <td>111</td>\n",
              "      <td>40</td>\n",
              "      <td>-73</td>\n",
              "      <td>51688</td>\n",
              "      <td>906</td>\n",
              "      <td>470</td>\n",
              "      <td>0</td>\n",
              "      <td>0</td>\n",
              "      <td>0</td>\n",
              "      <td>0</td>\n",
              "      <td>0</td>\n",
              "      <td>0</td>\n",
              "      <td>0</td>\n",
              "      <td>0</td>\n",
              "      <td>4234257</td>\n",
              "    </tr>\n",
              "    <tr>\n",
              "      <th>227941</th>\n",
              "      <td>635</td>\n",
              "      <td>1290</td>\n",
              "      <td>2</td>\n",
              "      <td>27</td>\n",
              "      <td>40</td>\n",
              "      <td>-73</td>\n",
              "      <td>60625</td>\n",
              "      <td>3186</td>\n",
              "      <td>3860</td>\n",
              "      <td>0</td>\n",
              "      <td>0</td>\n",
              "      <td>0</td>\n",
              "      <td>0</td>\n",
              "      <td>0</td>\n",
              "      <td>0</td>\n",
              "      <td>0</td>\n",
              "      <td>0</td>\n",
              "      <td>4226627</td>\n",
              "    </tr>\n",
              "  </tbody>\n",
              "</table>\n",
              "<p>227942 rows × 18 columns</p>\n",
              "</div>"
            ],
            "text/plain": [
              "        CRASH DATE  CRASH TIME  ...  NUMBER OF MOTORIST KILLED  COLLISION_ID\n",
              "0              236        1172  ...                          0       4407480\n",
              "1              233         815  ...                          0       4407147\n",
              "2              239         435  ...                          0       4407665\n",
              "3              233         420  ...                          0       4407811\n",
              "4              230        1345  ...                          0       4406885\n",
              "...            ...         ...  ...                        ...           ...\n",
              "227937         645         560  ...                          0       4228328\n",
              "227938         633         140  ...                          0       4224773\n",
              "227939         678         330  ...                          0       4239798\n",
              "227940         666         900  ...                          0       4234257\n",
              "227941         635        1290  ...                          0       4226627\n",
              "\n",
              "[227942 rows x 18 columns]"
            ]
          },
          "metadata": {},
          "execution_count": 60
        }
      ]
    },
    {
      "cell_type": "code",
      "metadata": {
        "id": "tssTZN2IBvgW"
      },
      "source": [
        "x=final_df.reset_index()[['CRASH TIME','LOCATION']].values.tolist()\n",
        "# x=final_df['CRASH TIME']\n",
        "# y=final_df['ON STREET NAME']\n",
        "\n",
        "from sklearn.preprocessing import MinMaxScaler\n",
        "scaler=MinMaxScaler()\n",
        "\n",
        "x_scaled=scaler.fit_transform(x)"
      ],
      "execution_count": 108,
      "outputs": []
    },
    {
      "cell_type": "code",
      "metadata": {
        "id": "gciQU8jgBtq_"
      },
      "source": [
        "import numpy as np\n",
        "from sklearn.model_selection import train_test_split\n",
        "from sklearn.tree import DecisionTreeClassifier\n",
        "from sklearn.metrics import f1_score\n",
        "from sklearn import metrics\n",
        "import matplotlib.pyplot as plt\n",
        "\n",
        "from sklearn.cluster import KMeans\n",
        "x_train,x_test,y_train,y_test = train_test_split(x,y,test_size=0.4,random_state=42)"
      ],
      "execution_count": 101,
      "outputs": []
    },
    {
      "cell_type": "code",
      "metadata": {
        "colab": {
          "base_uri": "https://localhost:8080/",
          "height": 293
        },
        "id": "PS_58BrUcvEd",
        "outputId": "75a429e2-097c-426d-b7f4-43adad6e9358"
      },
      "source": [
        "from sklearn.cluster import KMeans\n",
        "scores=[]\n",
        "n=15\n",
        "for i in range(2,n):\n",
        "  km=KMeans(n_clusters=i,random_state=0).fit(x)\n",
        "  pred=km.predict(x_scaled)\n",
        "  scores.append(-km.score(x_scaled))\n",
        "plt.plot([i for i in range(2,n)],scores)\n"
      ],
      "execution_count": 102,
      "outputs": [
        {
          "output_type": "execute_result",
          "data": {
            "text/plain": [
              "[<matplotlib.lines.Line2D at 0x7f76825d5c90>]"
            ]
          },
          "metadata": {},
          "execution_count": 102
        },
        {
          "output_type": "display_data",
          "data": {
            "image/png": "[encoded data removed]",
            "text/plain": [
              "<Figure size 432x288 with 1 Axes>"
            ]
          },
          "metadata": {
            "needs_background": "light"
          }
        }
      ]
    },
    {
      "cell_type": "code",
      "metadata": {
        "colab": {
          "base_uri": "https://localhost:8080/"
        },
        "id": "6y-igCHpiNWW",
        "outputId": "a38e2217-686e-4881-a4e5-3445999b6330"
      },
      "source": [
        "pip install kneed"
      ],
      "execution_count": 37,
      "outputs": [
        {
          "output_type": "stream",
          "name": "stdout",
          "text": [
            "Collecting kneed\n",
            "  Downloading kneed-0.7.0-py2.py3-none-any.whl (9.4 kB)\n",
            "Requirement already satisfied: matplotlib in /usr/local/lib/python3.7/dist-packages (from kneed) (3.2.2)\n",
            "Requirement already satisfied: scipy in /usr/local/lib/python3.7/dist-packages (from kneed) (1.4.1)\n",
            "Requirement already satisfied: numpy>=1.14.2 in /usr/local/lib/python3.7/dist-packages (from kneed) (1.19.5)\n",
            "Requirement already satisfied: kiwisolver>=1.0.1 in /usr/local/lib/python3.7/dist-packages (from matplotlib->kneed) (1.3.2)\n",
            "Requirement already satisfied: cycler>=0.10 in /usr/local/lib/python3.7/dist-packages (from matplotlib->kneed) (0.11.0)\n",
            "Requirement already satisfied: pyparsing!=2.0.4,!=2.1.2,!=2.1.6,>=2.0.1 in /usr/local/lib/python3.7/dist-packages (from matplotlib->kneed) (3.0.6)\n",
            "Requirement already satisfied: python-dateutil>=2.1 in /usr/local/lib/python3.7/dist-packages (from matplotlib->kneed) (2.8.2)\n",
            "Requirement already satisfied: six>=1.5 in /usr/local/lib/python3.7/dist-packages (from python-dateutil>=2.1->matplotlib->kneed) (1.15.0)\n",
            "Installing collected packages: kneed\n",
            "Successfully installed kneed-0.7.0\n"
          ]
        }
      ]
    },
    {
      "cell_type": "code",
      "metadata": {
        "colab": {
          "base_uri": "https://localhost:8080/"
        },
        "id": "qf3WZCm3iJf2",
        "outputId": "d3b61474-ce25-4b7b-f213-e5e4c874894f"
      },
      "source": [
        "from kneed import KneeLocator\n",
        "kl = KneeLocator(range(2, 15), scores, curve=\"convex\", direction=\"decreasing\")\n",
        "kl.elbow"
      ],
      "execution_count": 103,
      "outputs": [
        {
          "output_type": "execute_result",
          "data": {
            "text/plain": [
              "5"
            ]
          },
          "metadata": {},
          "execution_count": 103
        }
      ]
    },
    {
      "cell_type": "markdown",
      "metadata": {
        "id": "B6Rna0tNiWuU"
      },
      "source": [
        "Optimal value of k is 5."
      ]
    },
    {
      "cell_type": "code",
      "metadata": {
        "colab": {
          "base_uri": "https://localhost:8080/"
        },
        "id": "FvxRGbEkqk-q",
        "outputId": "bc00adf2-fab9-496c-cc46-252880b88fd4"
      },
      "source": [
        "km=KMeans(n_clusters=5,random_state=0).fit(x_scaled)\n",
        "km.cluster_centers_"
      ],
      "execution_count": 109,
      "outputs": [
        {
          "output_type": "execute_result",
          "data": {
            "text/plain": [
              "array([[0.25309363, 0.18893028],\n",
              "       [0.26753226, 0.53928622],\n",
              "       [0.76508251, 0.29444561],\n",
              "       [0.25203685, 0.88527735],\n",
              "       [0.77173229, 0.81986047]])"
            ]
          },
          "metadata": {},
          "execution_count": 109
        }
      ]
    },
    {
      "cell_type": "code",
      "metadata": {
        "colab": {
          "base_uri": "https://localhost:8080/",
          "height": 384
        },
        "id": "e-LJ_y22qvtv",
        "outputId": "e9c4d95d-ec92-46a5-c95d-318536377e47"
      },
      "source": [
        "import numpy as np\n",
        "a=np.asarray(x_scaled)\n",
        "print(a)\n",
        "plt.scatter(a[:,0],a[:,1], c='y')\n",
        "for c in km.cluster_centers_:\n",
        "  plt.scatter(c[0],c[1], c='g',marker='s')\n",
        "plt.show()"
      ],
      "execution_count": 110,
      "outputs": [
        {
          "output_type": "stream",
          "name": "stdout",
          "text": [
            "[[0.81445448 1.        ]\n",
            " [0.56636553 0.38005977]\n",
            " [0.30229326 1.        ]\n",
            " ...\n",
            " [0.22932592 0.77041694]\n",
            " [0.62543433 0.66865888]\n",
            " [0.89645587 0.78427187]]\n"
          ]
        },
        {
          "output_type": "display_data",
          "data": {
            "image/png": "[encoded data removed]",
            "text/plain": [
              "<Figure size 432x288 with 1 Axes>"
            ]
          },
          "metadata": {
            "needs_background": "light"
          }
        }
      ]
    },
    {
      "cell_type": "code",
      "metadata": {
        "id": "2V6Caj_sjr63"
      },
      "source": [
        "x=final_df.reset_index()[['LATITUDE','LONGITUDE']].values.tolist()"
      ],
      "execution_count": 113,
      "outputs": []
    },
    {
      "cell_type": "code",
      "metadata": {
        "colab": {
          "base_uri": "https://localhost:8080/",
          "height": 282
        },
        "id": "7oLPQ9QQjr_q",
        "outputId": "4afb91bd-da44-4fc6-d8b4-f8cd00ea1a70"
      },
      "source": [
        "from sklearn.cluster import KMeans\n",
        "scores=[]\n",
        "n=15\n",
        "for i in range(2,n):\n",
        "  km=KMeans(n_clusters=i,random_state=0).fit(x_scaled)\n",
        "  pred=km.predict(x_scaled)\n",
        "  scores.append(-km.score(x_scaled))\n",
        "plt.plot([i for i in range(2,n)],scores)\n"
      ],
      "execution_count": 115,
      "outputs": [
        {
          "output_type": "execute_result",
          "data": {
            "text/plain": [
              "[<matplotlib.lines.Line2D at 0x7f76763d62d0>]"
            ]
          },
          "metadata": {},
          "execution_count": 115
        },
        {
          "output_type": "display_data",
          "data": {
            "image/png": "[encoded data removed]",
            "text/plain": [
              "<Figure size 432x288 with 1 Axes>"
            ]
          },
          "metadata": {
            "needs_background": "light"
          }
        }
      ]
    },
    {
      "cell_type": "code",
      "metadata": {
        "colab": {
          "base_uri": "https://localhost:8080/"
        },
        "id": "V3nAu4uNjsCP",
        "outputId": "bc507827-050b-4e10-98d2-ab8e0c3696b3"
      },
      "source": [
        "from kneed import KneeLocator\n",
        "kl = KneeLocator(range(2, 15), scores, curve=\"convex\", direction=\"decreasing\")\n",
        "kl.elbow"
      ],
      "execution_count": 116,
      "outputs": [
        {
          "output_type": "execute_result",
          "data": {
            "text/plain": [
              "5"
            ]
          },
          "metadata": {},
          "execution_count": 116
        }
      ]
    },
    {
      "cell_type": "code",
      "metadata": {
        "colab": {
          "base_uri": "https://localhost:8080/"
        },
        "id": "5AmvPPdSuFx1",
        "outputId": "f78fa5fb-89d8-4616-abae-dcb3a6f2bdc0"
      },
      "source": [
        "km=KMeans(n_clusters=5,random_state=0).fit(x_scaled)\n",
        "km.cluster_centers_"
      ],
      "execution_count": 118,
      "outputs": [
        {
          "output_type": "execute_result",
          "data": {
            "text/plain": [
              "array([[0.25309363, 0.18893028],\n",
              "       [0.26753226, 0.53928622],\n",
              "       [0.76508251, 0.29444561],\n",
              "       [0.25203685, 0.88527735],\n",
              "       [0.77173229, 0.81986047]])"
            ]
          },
          "metadata": {},
          "execution_count": 118
        }
      ]
    },
    {
      "cell_type": "code",
      "metadata": {
        "colab": {
          "base_uri": "https://localhost:8080/",
          "height": 384
        },
        "id": "oew_3tZWkg2M",
        "outputId": "360a611a-e730-4278-f1f9-d2bc06d0cb7d"
      },
      "source": [
        "import numpy as np\n",
        "a=np.asarray(x_scaled)\n",
        "print(a)\n",
        "plt.scatter(a[:,0],a[:,1], c='y')\n",
        "for c in km.cluster_centers_:\n",
        "  plt.scatter(c[0],c[1], c='g',marker='s')\n",
        "# plt.xlim([40.30,41])\n",
        "# plt.ylim([-74.5,-73.5])\n",
        "plt.show()"
      ],
      "execution_count": 119,
      "outputs": [
        {
          "output_type": "stream",
          "name": "stdout",
          "text": [
            "[[0.81445448 1.        ]\n",
            " [0.56636553 0.38005977]\n",
            " [0.30229326 1.        ]\n",
            " ...\n",
            " [0.22932592 0.77041694]\n",
            " [0.62543433 0.66865888]\n",
            " [0.89645587 0.78427187]]\n"
          ]
        },
        {
          "output_type": "display_data",
          "data": {
            "image/png": "[encoded data removed]",
            "text/plain": [
              "<Figure size 432x288 with 1 Axes>"
            ]
          },
          "metadata": {
            "needs_background": "light"
          }
        }
      ]
    },
    {
      "cell_type": "code",
      "metadata": {
        "id": "5cHpOiq1YQCt"
      },
      "source": [
        "# scaler = StandardScaler()\n",
        "# Sum_of_squared_distances = []\n",
        "# std_scale = scaler.fit(df)\n",
        "# df_transformed = std_scale.transform(df)\n",
        "# pca = PCA(n_components=3)\n",
        "# pca = pca.fit(df_transformed)\n",
        "# X = pca.transform(df_transformed)\n",
        "# K = range(1,15)\n",
        "# for k in K:\n",
        "#     km = KMeans(n_clusters=k)\n",
        "#     km = km.fit(df_transformed)\n",
        "#     Sum_of_squared_distances.append(km.inertia_)"
      ],
      "execution_count": null,
      "outputs": []
    },
    {
      "cell_type": "code",
      "metadata": {
        "id": "-M8qhvzv7G0w"
      },
      "source": [
        "# clf = DecisionTreeClassifier()\n",
        "# clf = clf.fit(x_train,y_train)\n",
        "# y_pred = clf.predict(x_test)\n",
        "# print(\"Accuracy:\",metrics.accuracy_score(y_test, y_pred))\n",
        "    "
      ],
      "execution_count": null,
      "outputs": []
    },
    {
      "cell_type": "code",
      "metadata": {
        "id": "A3aJhGbu2mbK"
      },
      "source": [
        "# from sklearn.ensemble import RandomForestClassifier\n",
        "# clf=RandomForestClassifier(n_estimators=20)\n",
        "# clf.fit(x_train,y_train)\n",
        "\n",
        "# y_pred=clf.predict(x_test)\n",
        "# print(\"Accuracy:\",metrics.accuracy_score(y_test, y_pred))"
      ],
      "execution_count": null,
      "outputs": []
    },
    {
      "cell_type": "code",
      "metadata": {
        "colab": {
          "base_uri": "https://localhost:8080/"
        },
        "id": "dUVdswpKDFsd",
        "outputId": "394038d7-743e-497b-c169-9a5f959882a2"
      },
      "source": [
        "from google.colab import drive\n",
        "drive.mount('/content/drive')"
      ],
      "execution_count": 151,
      "outputs": [
        {
          "output_type": "stream",
          "name": "stdout",
          "text": [
            "Drive already mounted at /content/drive; to attempt to forcibly remount, call drive.mount(\"/content/drive\", force_remount=True).\n"
          ]
        }
      ]
    },
    {
      "cell_type": "code",
      "metadata": {
        "colab": {
          "base_uri": "https://localhost:8080/",
          "height": 496
        },
        "id": "QVVn3XUADF13",
        "outputId": "68f74ce1-3a23-40fb-ee2d-bf1e7ef48203"
      },
      "source": [
        "import pandas as pd\n",
        "data1=pd.read_csv('/content/drive/Shareddrives/CMPE_255/255_Project/motor_vehicle_collisions_crashes.csv')\n",
        "data1.head(5)"
      ],
      "execution_count": 152,
      "outputs": [
        {
          "output_type": "stream",
          "name": "stderr",
          "text": [
            "/usr/local/lib/python3.7/dist-packages/IPython/core/interactiveshell.py:2718: DtypeWarning: Columns (3) have mixed types.Specify dtype option on import or set low_memory=False.\n",
            "  interactivity=interactivity, compiler=compiler, result=result)\n"
          ]
        },
        {
          "output_type": "execute_result",
          "data": {
            "text/html": [
              "<div>\n",
              "<style scoped>\n",
              "    .dataframe tbody tr th:only-of-type {\n",
              "        vertical-align: middle;\n",
              "    }\n",
              "\n",
              "    .dataframe tbody tr th {\n",
              "        vertical-align: top;\n",
              "    }\n",
              "\n",
              "    .dataframe thead th {\n",
              "        text-align: right;\n",
              "    }\n",
              "</style>\n",
              "<table border=\"1\" class=\"dataframe\">\n",
              "  <thead>\n",
              "    <tr style=\"text-align: right;\">\n",
              "      <th></th>\n",
              "      <th>CRASH DATE</th>\n",
              "      <th>CRASH TIME</th>\n",
              "      <th>BOROUGH</th>\n",
              "      <th>ZIP CODE</th>\n",
              "      <th>LATITUDE</th>\n",
              "      <th>LONGITUDE</th>\n",
              "      <th>LOCATION</th>\n",
              "      <th>ON STREET NAME</th>\n",
              "      <th>CROSS STREET NAME</th>\n",
              "      <th>OFF STREET NAME</th>\n",
              "      <th>NUMBER OF PERSONS INJURED</th>\n",
              "      <th>NUMBER OF PERSONS KILLED</th>\n",
              "      <th>NUMBER OF PEDESTRIANS INJURED</th>\n",
              "      <th>NUMBER OF PEDESTRIANS KILLED</th>\n",
              "      <th>NUMBER OF CYCLIST INJURED</th>\n",
              "      <th>NUMBER OF CYCLIST KILLED</th>\n",
              "      <th>NUMBER OF MOTORIST INJURED</th>\n",
              "      <th>NUMBER OF MOTORIST KILLED</th>\n",
              "      <th>CONTRIBUTING FACTOR VEHICLE 1</th>\n",
              "      <th>CONTRIBUTING FACTOR VEHICLE 2</th>\n",
              "      <th>CONTRIBUTING FACTOR VEHICLE 3</th>\n",
              "      <th>CONTRIBUTING FACTOR VEHICLE 4</th>\n",
              "      <th>CONTRIBUTING FACTOR VEHICLE 5</th>\n",
              "      <th>COLLISION_ID</th>\n",
              "      <th>VEHICLE TYPE CODE 1</th>\n",
              "      <th>VEHICLE TYPE CODE 2</th>\n",
              "      <th>VEHICLE TYPE CODE 3</th>\n",
              "      <th>VEHICLE TYPE CODE 4</th>\n",
              "      <th>VEHICLE TYPE CODE 5</th>\n",
              "    </tr>\n",
              "  </thead>\n",
              "  <tbody>\n",
              "    <tr>\n",
              "      <th>0</th>\n",
              "      <td>04/14/2021</td>\n",
              "      <td>5:32</td>\n",
              "      <td>NaN</td>\n",
              "      <td>NaN</td>\n",
              "      <td>NaN</td>\n",
              "      <td>NaN</td>\n",
              "      <td>NaN</td>\n",
              "      <td>BRONX WHITESTONE BRIDGE</td>\n",
              "      <td>NaN</td>\n",
              "      <td>NaN</td>\n",
              "      <td>0.0</td>\n",
              "      <td>0.0</td>\n",
              "      <td>0</td>\n",
              "      <td>0</td>\n",
              "      <td>0</td>\n",
              "      <td>0</td>\n",
              "      <td>0</td>\n",
              "      <td>0</td>\n",
              "      <td>Following Too Closely</td>\n",
              "      <td>Unspecified</td>\n",
              "      <td>NaN</td>\n",
              "      <td>NaN</td>\n",
              "      <td>NaN</td>\n",
              "      <td>4407480</td>\n",
              "      <td>Sedan</td>\n",
              "      <td>Sedan</td>\n",
              "      <td>NaN</td>\n",
              "      <td>NaN</td>\n",
              "      <td>NaN</td>\n",
              "    </tr>\n",
              "    <tr>\n",
              "      <th>1</th>\n",
              "      <td>04/13/2021</td>\n",
              "      <td>21:35</td>\n",
              "      <td>BROOKLYN</td>\n",
              "      <td>11217</td>\n",
              "      <td>40.68358</td>\n",
              "      <td>-73.97617</td>\n",
              "      <td>(40.68358, -73.97617)</td>\n",
              "      <td>NaN</td>\n",
              "      <td>NaN</td>\n",
              "      <td>620       ATLANTIC AVENUE</td>\n",
              "      <td>1.0</td>\n",
              "      <td>0.0</td>\n",
              "      <td>1</td>\n",
              "      <td>0</td>\n",
              "      <td>0</td>\n",
              "      <td>0</td>\n",
              "      <td>0</td>\n",
              "      <td>0</td>\n",
              "      <td>Unspecified</td>\n",
              "      <td>NaN</td>\n",
              "      <td>NaN</td>\n",
              "      <td>NaN</td>\n",
              "      <td>NaN</td>\n",
              "      <td>4407147</td>\n",
              "      <td>Sedan</td>\n",
              "      <td>NaN</td>\n",
              "      <td>NaN</td>\n",
              "      <td>NaN</td>\n",
              "      <td>NaN</td>\n",
              "    </tr>\n",
              "    <tr>\n",
              "      <th>2</th>\n",
              "      <td>04/15/2021</td>\n",
              "      <td>16:15</td>\n",
              "      <td>NaN</td>\n",
              "      <td>NaN</td>\n",
              "      <td>NaN</td>\n",
              "      <td>NaN</td>\n",
              "      <td>NaN</td>\n",
              "      <td>HUTCHINSON RIVER PARKWAY</td>\n",
              "      <td>NaN</td>\n",
              "      <td>NaN</td>\n",
              "      <td>0.0</td>\n",
              "      <td>0.0</td>\n",
              "      <td>0</td>\n",
              "      <td>0</td>\n",
              "      <td>0</td>\n",
              "      <td>0</td>\n",
              "      <td>0</td>\n",
              "      <td>0</td>\n",
              "      <td>Pavement Slippery</td>\n",
              "      <td>NaN</td>\n",
              "      <td>NaN</td>\n",
              "      <td>NaN</td>\n",
              "      <td>NaN</td>\n",
              "      <td>4407665</td>\n",
              "      <td>Station Wagon/Sport Utility Vehicle</td>\n",
              "      <td>NaN</td>\n",
              "      <td>NaN</td>\n",
              "      <td>NaN</td>\n",
              "      <td>NaN</td>\n",
              "    </tr>\n",
              "    <tr>\n",
              "      <th>3</th>\n",
              "      <td>04/13/2021</td>\n",
              "      <td>16:00</td>\n",
              "      <td>BROOKLYN</td>\n",
              "      <td>11222</td>\n",
              "      <td>NaN</td>\n",
              "      <td>NaN</td>\n",
              "      <td>NaN</td>\n",
              "      <td>VANDERVORT AVENUE</td>\n",
              "      <td>ANTHONY STREET</td>\n",
              "      <td>NaN</td>\n",
              "      <td>0.0</td>\n",
              "      <td>0.0</td>\n",
              "      <td>0</td>\n",
              "      <td>0</td>\n",
              "      <td>0</td>\n",
              "      <td>0</td>\n",
              "      <td>0</td>\n",
              "      <td>0</td>\n",
              "      <td>Following Too Closely</td>\n",
              "      <td>Unspecified</td>\n",
              "      <td>NaN</td>\n",
              "      <td>NaN</td>\n",
              "      <td>NaN</td>\n",
              "      <td>4407811</td>\n",
              "      <td>Sedan</td>\n",
              "      <td>NaN</td>\n",
              "      <td>NaN</td>\n",
              "      <td>NaN</td>\n",
              "      <td>NaN</td>\n",
              "    </tr>\n",
              "    <tr>\n",
              "      <th>4</th>\n",
              "      <td>04/12/2021</td>\n",
              "      <td>8:25</td>\n",
              "      <td>NaN</td>\n",
              "      <td>NaN</td>\n",
              "      <td>0.00000</td>\n",
              "      <td>0.00000</td>\n",
              "      <td>(0.0, 0.0)</td>\n",
              "      <td>EDSON AVENUE</td>\n",
              "      <td>NaN</td>\n",
              "      <td>NaN</td>\n",
              "      <td>0.0</td>\n",
              "      <td>0.0</td>\n",
              "      <td>0</td>\n",
              "      <td>0</td>\n",
              "      <td>0</td>\n",
              "      <td>0</td>\n",
              "      <td>0</td>\n",
              "      <td>0</td>\n",
              "      <td>Unspecified</td>\n",
              "      <td>Unspecified</td>\n",
              "      <td>NaN</td>\n",
              "      <td>NaN</td>\n",
              "      <td>NaN</td>\n",
              "      <td>4406885</td>\n",
              "      <td>Station Wagon/Sport Utility Vehicle</td>\n",
              "      <td>Sedan</td>\n",
              "      <td>NaN</td>\n",
              "      <td>NaN</td>\n",
              "      <td>NaN</td>\n",
              "    </tr>\n",
              "  </tbody>\n",
              "</table>\n",
              "</div>"
            ],
            "text/plain": [
              "   CRASH DATE CRASH TIME  ... VEHICLE TYPE CODE 4 VEHICLE TYPE CODE 5\n",
              "0  04/14/2021       5:32  ...                 NaN                 NaN\n",
              "1  04/13/2021      21:35  ...                 NaN                 NaN\n",
              "2  04/15/2021      16:15  ...                 NaN                 NaN\n",
              "3  04/13/2021      16:00  ...                 NaN                 NaN\n",
              "4  04/12/2021       8:25  ...                 NaN                 NaN\n",
              "\n",
              "[5 rows x 29 columns]"
            ]
          },
          "metadata": {},
          "execution_count": 152
        }
      ]
    },
    {
      "cell_type": "code",
      "metadata": {
        "colab": {
          "base_uri": "https://localhost:8080/"
        },
        "id": "bzjRttm_Gknk",
        "outputId": "a482958c-5b4e-4a0a-f652-149fcb0a627b"
      },
      "source": [
        "pip install python-dateutil"
      ],
      "execution_count": 153,
      "outputs": [
        {
          "output_type": "stream",
          "name": "stdout",
          "text": [
            "Requirement already satisfied: python-dateutil in /usr/local/lib/python3.7/dist-packages (2.8.2)\n",
            "Requirement already satisfied: six>=1.5 in /usr/local/lib/python3.7/dist-packages (from python-dateutil) (1.15.0)\n"
          ]
        }
      ]
    },
    {
      "cell_type": "code",
      "metadata": {
        "id": "eZPDdc8aECYG"
      },
      "source": [
        "x=data['CRASH DATE']\n",
        "year=[]\n",
        "from dateutil.parser import parse\n",
        "for i in range(0,len(x.index)):\n",
        "  dt = parse(x[i])\n",
        "  y=dt.year\n",
        "  year.append(y)\n",
        "  "
      ],
      "execution_count": 154,
      "outputs": []
    },
    {
      "cell_type": "code",
      "metadata": {
        "id": "94rG5rfREKfI"
      },
      "source": [
        "y=data['NUMBER OF PEDESTRIANS INJURED']\n",
        "y=y.astype(int)\n",
        "#print(y[1:88])\n",
        "l=year"
      ],
      "execution_count": 205,
      "outputs": []
    },
    {
      "cell_type": "code",
      "metadata": {
        "colab": {
          "base_uri": "https://localhost:8080/",
          "height": 319
        },
        "id": "fxgoruRaI0yW",
        "outputId": "516254ea-fcb5-4048-950f-bc28bc8ee56c"
      },
      "source": [
        "import matplotlib.pyplot as plt \n",
        "import seaborn as sns\n",
        "# plt.ylim([0,10])\n",
        "#plt.bar(l,y)\n",
        "plt=sns.barplot(l,y)\n",
        "#plt.show()\n",
        "#fig, ax = plt.subplots()\n",
        "\n",
        "\n",
        "# #,kind=plt.plot(l,y) \n"
      ],
      "execution_count": 213,
      "outputs": [
        {
          "output_type": "stream",
          "name": "stderr",
          "text": [
            "/usr/local/lib/python3.7/dist-packages/seaborn/_decorators.py:43: FutureWarning: Pass the following variables as keyword args: x, y. From version 0.12, the only valid positional argument will be `data`, and passing other arguments without an explicit keyword will result in an error or misinterpretation.\n",
            "  FutureWarning\n"
          ]
        },
        {
          "output_type": "display_data",
          "data": {
            "image/png": "[encoded data removed]",
            "text/plain": [
              "<Figure size 432x288 with 1 Axes>"
            ]
          },
          "metadata": {
            "needs_background": "light"
          }
        }
      ]
    },
    {
      "cell_type": "code",
      "metadata": {
        "id": "2CQNtTM6KT2K"
      },
      "source": [
        "y=data['NUMBER OF PEDESTRIANS KILLED']\n",
        "y=y.astype(int)\n",
        "l=year"
      ],
      "execution_count": 163,
      "outputs": []
    },
    {
      "cell_type": "code",
      "metadata": {
        "id": "jD-TzU39KaG3"
      },
      "source": [
        ""
      ],
      "execution_count": 172,
      "outputs": []
    },
    {
      "cell_type": "code",
      "metadata": {
        "id": "pbRyIaz5Ljhw"
      },
      "source": [
        "#sns.jointplot(l,y)"
      ],
      "execution_count": 223,
      "outputs": []
    },
    {
      "cell_type": "code",
      "metadata": {
        "id": "7l3X18JBL3aT"
      },
      "source": [
        "#sns.distplot(l,y)"
      ],
      "execution_count": 150,
      "outputs": []
    },
    {
      "cell_type": "code",
      "metadata": {
        "id": "tnC1dzxfMO_E"
      },
      "source": [
        "#sns.catplot(l,y,kind = \"count\")"
      ],
      "execution_count": 165,
      "outputs": []
    },
    {
      "cell_type": "code",
      "metadata": {
        "id": "PtgYmjgHNiFs"
      },
      "source": [
        ""
      ],
      "execution_count": 178,
      "outputs": []
    },
    {
      "cell_type": "code",
      "metadata": {
        "id": "DtsKc4VvRbP5"
      },
      "source": [
        "d = {'year': y, 'peds': l}"
      ],
      "execution_count": 186,
      "outputs": []
    },
    {
      "cell_type": "code",
      "metadata": {
        "id": "_hv5mzuzRb6L"
      },
      "source": [
        "df2 = pd.DataFrame(d)"
      ],
      "execution_count": 188,
      "outputs": []
    },
    {
      "cell_type": "code",
      "metadata": {
        "id": "vwg3UppfR5Z_"
      },
      "source": [
        "df2 = df2.groupby(['peds']).sum()"
      ],
      "execution_count": 199,
      "outputs": []
    },
    {
      "cell_type": "code",
      "metadata": {
        "colab": {
          "base_uri": "https://localhost:8080/"
        },
        "id": "blAqyafvR_T3",
        "outputId": "bac87933-940b-4c1b-a6c4-3eb0cdc51447"
      },
      "source": [
        "df2['year']"
      ],
      "execution_count": 203,
      "outputs": [
        {
          "output_type": "execute_result",
          "data": {
            "text/plain": [
              "peds\n",
              "2012     5906\n",
              "2013    11988\n",
              "2014    11036\n",
              "2015    10084\n",
              "2016    11090\n",
              "2017    11151\n",
              "2018    11124\n",
              "2019    10568\n",
              "2020     6689\n",
              "2021     4844\n",
              "Name: year, dtype: int64"
            ]
          },
          "metadata": {},
          "execution_count": 203
        }
      ]
    },
    {
      "cell_type": "code",
      "metadata": {
        "id": "FTn5M-AHTVLS"
      },
      "source": [
        "#plt.bar(df2['year'][x],df2['year'][y])"
      ],
      "execution_count": 222,
      "outputs": []
    },
    {
      "cell_type": "code",
      "metadata": {
        "colab": {
          "base_uri": "https://localhost:8080/"
        },
        "id": "iCfu0rY3XmRG",
        "outputId": "99797d09-67ae-4c36-e94c-dafbaf7b501b"
      },
      "source": [
        "df2['year'].shape"
      ],
      "execution_count": 221,
      "outputs": [
        {
          "output_type": "execute_result",
          "data": {
            "text/plain": [
              "(10,)"
            ]
          },
          "metadata": {},
          "execution_count": 221
        }
      ]
    },
    {
      "cell_type": "code",
      "metadata": {
        "id": "f_HacWaDXnoH"
      },
      "source": [
        ""
      ],
      "execution_count": null,
      "outputs": []
    }
  ]
}