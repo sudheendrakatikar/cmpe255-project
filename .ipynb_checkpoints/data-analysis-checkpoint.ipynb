{
 "cells": [
  {
   "cell_type": "code",
   "execution_count": 1,
   "id": "2529630c",
   "metadata": {},
   "outputs": [],
   "source": [
    "# Basic stuff we all need\n",
    "import pandas as pd\n",
    "import numpy as np\n",
    "from datetime import datetime"
   ]
  },
  {
   "cell_type": "code",
   "execution_count": 2,
   "id": "23fe561f",
   "metadata": {},
   "outputs": [],
   "source": [
    "data = pd.read_csv('../data/motor_vehicle_collisions_crashes.csv', low_memory=False)"
   ]
  },
  {
   "cell_type": "code",
   "execution_count": 6,
   "id": "1a9e48f5",
   "metadata": {},
   "outputs": [
    {
     "data": {
      "text/plain": [
       "Unspecified                       1313198\n",
       "Driver Inattention/Distraction      83186\n",
       "Other Vehicular                     29338\n",
       "Following Too Closely               16093\n",
       "Failure to Yield Right-of-Way       15452\n",
       "                                   ...   \n",
       "Eating or Drinking                      8\n",
       "Listening/Using Headphones              8\n",
       "Windshield Inadequate                   7\n",
       "1                                       5\n",
       "Texting                                 3\n",
       "Name: CONTRIBUTING FACTOR VEHICLE 2, Length: 61, dtype: int64"
      ]
     },
     "execution_count": 6,
     "metadata": {},
     "output_type": "execute_result"
    }
   ],
   "source": [
    "data[''['CONTRIBUTING FACTOR VEHICLE 1'].value_counts()\n",
    "data['CONTRIBUTING FACTOR VEHICLE 2'].value_counts()"
   ]
  },
  {
   "cell_type": "code",
   "execution_count": null,
   "id": "4833f546",
   "metadata": {},
   "outputs": [],
   "source": []
  }
 ],
 "metadata": {
  "kernelspec": {
   "display_name": "Python 3",
   "language": "python",
   "name": "python3"
  },
  "language_info": {
   "codemirror_mode": {
    "name": "ipython",
    "version": 3
   },
   "file_extension": ".py",
   "mimetype": "text/x-python",
   "name": "python",
   "nbconvert_exporter": "python",
   "pygments_lexer": "ipython3",
   "version": "3.8.8"
  }
 },
 "nbformat": 4,
 "nbformat_minor": 5
}
