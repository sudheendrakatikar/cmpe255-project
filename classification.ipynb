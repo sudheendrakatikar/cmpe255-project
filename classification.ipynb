{
 "cells": [
  {
   "cell_type": "code",
   "execution_count": 1,
   "id": "e8c939db",
   "metadata": {},
   "outputs": [],
   "source": [
    "import numpy as np\n",
    "import pandas as pd\n",
    "from collections import Counter\n",
    "import matplotlib.pyplot as plt\n",
    "from datetime import datetime\n",
    "\n",
    "import warnings\n",
    "warnings.filterwarnings('ignore')"
   ]
  },
  {
   "cell_type": "code",
   "execution_count": 47,
   "id": "65019053",
   "metadata": {},
   "outputs": [],
   "source": [
    "data = pd.read_csv('../data/motor_vehicle_collisions_crashes.csv', low_memory=False)"
   ]
  },
  {
   "cell_type": "code",
   "execution_count": 50,
   "id": "3dff1165",
   "metadata": {},
   "outputs": [],
   "source": [
    "data['CRASH HOUR'] = pd.Series(datetime.strptime(time, '%H:%M').hour for time in data['CRASH TIME'])"
   ]
  },
  {
   "cell_type": "code",
   "execution_count": 68,
   "id": "42d02b98",
   "metadata": {},
   "outputs": [],
   "source": [
    "columns = ['CRASH HOUR', 'BOROUGH', 'CONTRIBUTING FACTOR VEHICLE 1']\n",
    "df = data[columns]"
   ]
  },
  {
   "cell_type": "code",
   "execution_count": 69,
   "id": "babb5f07",
   "metadata": {},
   "outputs": [],
   "source": [
    "for col in columns:\n",
    "    df = df[df[col].notna()]\n",
    "\n",
    "df = df.loc[df['CONTRIBUTING FACTOR VEHICLE 1'] != 'UNSPECIFIED']"
   ]
  },
  {
   "cell_type": "code",
   "execution_count": 70,
   "id": "9c5e1122",
   "metadata": {},
   "outputs": [],
   "source": [
    "features = df.columns.tolist()\n",
    "clas = 'CONTRIBUTING FACTOR VEHICLE 1'\n",
    "features.remove(clas)"
   ]
  },
  {
   "cell_type": "code",
   "execution_count": 85,
   "id": "6ada6c33",
   "metadata": {},
   "outputs": [],
   "source": [
    "classes = df[clas].value_counts().index[:10].tolist()\n",
    "df = df.loc[df[clas].isin(classes)]"
   ]
  },
  {
   "cell_type": "code",
   "execution_count": 86,
   "id": "6dac5d47",
   "metadata": {},
   "outputs": [],
   "source": [
    "from sklearn.naive_bayes import CategoricalNB\n",
    "from sklearn.preprocessing import LabelEncoder\n",
    "from sklearn.metrics import accuracy_score, confusion_matrix, roc_curve, roc_auc_score, recall_score, precision_score\n",
    "from sklearn.metrics import f1_score, classification_report\n",
    "from sklearn.model_selection import train_test_split\n",
    "from statsmodels.stats.outliers_influence import variance_inflation_factor"
   ]
  },
  {
   "cell_type": "code",
   "execution_count": 87,
   "id": "0f8c318a",
   "metadata": {},
   "outputs": [
    {
     "data": {
      "text/plain": [
       "1    232790\n",
       "2     78072\n",
       "0     54167\n",
       "5     41467\n",
       "4     40700\n",
       "7     30577\n",
       "9     30054\n",
       "6     28824\n",
       "3     25495\n",
       "8     20260\n",
       "Name: CONTRIBUTING FACTOR VEHICLE 1, dtype: int64"
      ]
     },
     "execution_count": 87,
     "metadata": {},
     "output_type": "execute_result"
    }
   ],
   "source": [
    "encoder = LabelEncoder()\n",
    "for feature in features:\n",
    "    encoder.fit(df[feature])\n",
    "    df[feature] = encoder.transform(df[feature])\n",
    "\n",
    "target_encoded = encoder.fit_transform(df[clas])\n",
    "df[clas] = target_encoded\n",
    "df[clas].value_counts()"
   ]
  },
  {
   "cell_type": "code",
   "execution_count": 88,
   "id": "d77037e8",
   "metadata": {
    "scrolled": true
   },
   "outputs": [
    {
     "data": {
      "text/html": [
       "<div>\n",
       "<style scoped>\n",
       "    .dataframe tbody tr th:only-of-type {\n",
       "        vertical-align: middle;\n",
       "    }\n",
       "\n",
       "    .dataframe tbody tr th {\n",
       "        vertical-align: top;\n",
       "    }\n",
       "\n",
       "    .dataframe thead th {\n",
       "        text-align: right;\n",
       "    }\n",
       "</style>\n",
       "<table border=\"1\" class=\"dataframe\">\n",
       "  <thead>\n",
       "    <tr style=\"text-align: right;\">\n",
       "      <th></th>\n",
       "      <th>VIF</th>\n",
       "      <th>Features</th>\n",
       "    </tr>\n",
       "  </thead>\n",
       "  <tbody>\n",
       "    <tr>\n",
       "      <th>0</th>\n",
       "      <td>3.226814</td>\n",
       "      <td>CRASH HOUR</td>\n",
       "    </tr>\n",
       "    <tr>\n",
       "      <th>1</th>\n",
       "      <td>2.782467</td>\n",
       "      <td>BOROUGH</td>\n",
       "    </tr>\n",
       "  </tbody>\n",
       "</table>\n",
       "</div>"
      ],
      "text/plain": [
       "        VIF    Features\n",
       "0  3.226814  CRASH HOUR\n",
       "1  2.782467     BOROUGH"
      ]
     },
     "execution_count": 88,
     "metadata": {},
     "output_type": "execute_result"
    }
   ],
   "source": [
    "vif = pd.DataFrame()\n",
    "vif['VIF'] = [variance_inflation_factor(df.values, i) for i in range(len(features))]\n",
    "vif['Features'] = features\n",
    "vif"
   ]
  },
  {
   "cell_type": "code",
   "execution_count": 89,
   "id": "c0aa4bf7",
   "metadata": {},
   "outputs": [],
   "source": [
    "X_train, X_test, y_train, y_test = train_test_split(df.drop(clas, axis=1), df[clas], test_size=0.3, random_state=143)"
   ]
  },
  {
   "cell_type": "code",
   "execution_count": 90,
   "id": "d73547db",
   "metadata": {},
   "outputs": [
    {
     "data": {
      "text/plain": [
       "CategoricalNB()"
      ]
     },
     "execution_count": 90,
     "metadata": {},
     "output_type": "execute_result"
    }
   ],
   "source": [
    "cnb = CategoricalNB()\n",
    "cnb.fit(X_train, y_train)"
   ]
  },
  {
   "cell_type": "code",
   "execution_count": 91,
   "id": "c2df1ea0",
   "metadata": {},
   "outputs": [
    {
     "name": "stdout",
     "output_type": "stream",
     "text": [
      "CategoricalNB\n",
      "==============================\n",
      "Misclassified samples: 104980\n",
      "Accuracy: 0.40\n"
     ]
    }
   ],
   "source": [
    "y_pred_cnb = cnb.predict(X_test)\n",
    "y_prob_pred_cnb = cnb.predict_proba(X_test)\n",
    "# how did our model perform?\n",
    "count_misclassified = (y_test != y_pred_cnb).sum()\n",
    "\n",
    "print(\"CategoricalNB\")\n",
    "print(\"=\" * 30)\n",
    "print('Misclassified samples: {}'.format(count_misclassified))\n",
    "accuracy = accuracy_score(y_test, y_pred_cnb)\n",
    "print('Accuracy: {:.2f}'.format(accuracy))"
   ]
  },
  {
   "cell_type": "code",
   "execution_count": 92,
   "id": "7b90ba4d",
   "metadata": {},
   "outputs": [
    {
     "name": "stdout",
     "output_type": "stream",
     "text": [
      "Recall score :  0.3991598081523792\n",
      "Precision score :  0.3991598081523792\n",
      "F1 score :  0.3991598081523792\n"
     ]
    }
   ],
   "source": [
    "print(\"Recall score : \", recall_score(y_test, y_pred_cnb , average='micro'))\n",
    "print(\"Precision score : \",precision_score(y_test, y_pred_cnb , average='micro'))\n",
    "print(\"F1 score : \",f1_score(y_test, y_pred_cnb , average='micro'))"
   ]
  },
  {
   "cell_type": "code",
   "execution_count": 93,
   "id": "2ffbfaa6",
   "metadata": {},
   "outputs": [
    {
     "name": "stdout",
     "output_type": "stream",
     "text": [
      "              precision    recall  f1-score   support\n",
      "\n",
      "           0       0.00      0.00      0.00     16213\n",
      "           1       0.40      1.00      0.57     69742\n",
      "           2       0.00      0.00      0.00     23466\n",
      "           3       0.00      0.00      0.00      7651\n",
      "           4       0.00      0.00      0.00     12210\n",
      "           5       0.00      0.00      0.00     12519\n",
      "           6       0.00      0.00      0.00      8639\n",
      "           7       0.00      0.00      0.00      9141\n",
      "           8       0.00      0.00      0.00      6109\n",
      "           9       0.00      0.00      0.00      9032\n",
      "\n",
      "    accuracy                           0.40    174722\n",
      "   macro avg       0.04      0.10      0.06    174722\n",
      "weighted avg       0.16      0.40      0.23    174722\n",
      "\n"
     ]
    }
   ],
   "source": [
    "print(classification_report(y_test, y_pred_cnb))"
   ]
  }
 ],
 "metadata": {
  "kernelspec": {
   "display_name": "Python 3",
   "language": "python",
   "name": "python3"
  },
  "language_info": {
   "codemirror_mode": {
    "name": "ipython",
    "version": 3
   },
   "file_extension": ".py",
   "mimetype": "text/x-python",
   "name": "python",
   "nbconvert_exporter": "python",
   "pygments_lexer": "ipython3",
   "version": "3.8.8"
  }
 },
 "nbformat": 4,
 "nbformat_minor": 5
}
