{
 "cells": [
  {
   "cell_type": "code",
   "execution_count": 1,
   "id": "a54d6642",
   "metadata": {},
   "outputs": [],
   "source": [
    "import pandas as pd\n",
    "import numpy as np\n",
    "from datetime import datetime\n",
    "import time \n",
    "\n",
    "import folium\n",
    "from folium.plugins import HeatMap\n",
    "from IPython.display import IFrame\n",
    "\n",
    "import os\n",
    "import time\n",
    "from selenium import webdriver\n",
    "from PIL import Image \n",
    "import glob\n",
    "#40.66, -73.95"
   ]
  },
  {
   "cell_type": "code",
   "execution_count": 23,
   "id": "ccdcbdb6",
   "metadata": {},
   "outputs": [],
   "source": [
    "data = pd.read_csv('../data/pedestrian_accidents.csv', low_memory=False)\n",
    "data = data[data['CRASH TIME'].notna()]\n",
    "data = data[data['LATITUDE'].notna()]\n",
    "data = data[data['LONGITUDE'].notna()]"
   ]
  },
  {
   "cell_type": "code",
   "execution_count": 25,
   "id": "da2737e7",
   "metadata": {},
   "outputs": [],
   "source": [
    "data['HOUR'] = pd.Series([datetime.strptime(time, '%H:%M').hour for time in data['CRASH TIME']], dtype='int')\n",
    "data = data[data['HOUR'].notna()]\n",
    "data['HOUR'] = data['HOUR'].astype(int)"
   ]
  },
  {
   "cell_type": "code",
   "execution_count": 24,
   "id": "225784b1",
   "metadata": {},
   "outputs": [],
   "source": [
    "def embed_map(map, filename):\n",
    "    map.save(filename)\n",
    "    return IFrame(filename, width='100%', height='500px')"
   ]
  },
  {
   "cell_type": "code",
   "execution_count": 28,
   "id": "bf1500ac",
   "metadata": {},
   "outputs": [],
   "source": [
    "for i in range(data.HOUR.min(), data.HOUR.max()+1):\n",
    "    df_geo = data.loc[(data.HOUR == i)][['LATITUDE', 'LONGITUDE']].copy()\n",
    "    map_5 = folium.Map(location=[40.66, -73.95], tiles='openstreetmap', zoom_start=10)\n",
    "    HeatMap(data=df_geo, radius=12).add_to(map_5)\n",
    "    title_html = f'''<h3 align=\"center\" style=\"font-size:20px\">\n",
    "                    <b>Accidents during the day</b></h3>\n",
    "                 '''\n",
    "    map_5.get_root().html.add_child(folium.Element(title_html))\n",
    "    embed_map(map_5, f'./maps/{i}_heatmap.html')"
   ]
  },
  {
   "cell_type": "code",
   "execution_count": 29,
   "id": "8c3cf442",
   "metadata": {},
   "outputs": [
    {
     "name": "stderr",
     "output_type": "stream",
     "text": [
      "<ipython-input-29-c658d06806ec>:3: DeprecationWarning: executable_path has been deprecated, please pass in a Service object\n",
      "  browser = webdriver.Chrome(executable_path='./chromedriver.exe')\n"
     ]
    }
   ],
   "source": [
    "for i in range(0, 23):\n",
    "    tmpurl=f'file:///C:/Users/Sudheendra Katikar/255/cmpe255-project-team1/maps/{i}_heatmap.html'\n",
    "    browser = webdriver.Chrome(executable_path='./chromedriver.exe')\n",
    "    browser.get(tmpurl)\n",
    "    browser.save_screenshot(f'./maps/{i}_heatmap.png')\n",
    "    browser.quit()"
   ]
  },
  {
   "cell_type": "code",
   "execution_count": 30,
   "id": "0f1991ea",
   "metadata": {},
   "outputs": [],
   "source": [
    "def png_to_gif(path_to_images, save_file_path, duration=1000):\n",
    "    frames = []\n",
    "    images = glob.glob(f'{path_to_images}')\n",
    "    for i in sorted(images): \n",
    "        im = Image.open(i)\n",
    "        im = im.resize((550,389),Image.ANTIALIAS)\n",
    "        frames.append(im.copy())\n",
    "    frames[0].save(f'{save_file_path}', format='GIF', append_images=frames[1:], save_all=True,\n",
    "                   duration=duration, loop=0)"
   ]
  },
  {
   "cell_type": "code",
   "execution_count": 31,
   "id": "2056989c",
   "metadata": {},
   "outputs": [],
   "source": [
    "png_to_gif(path_to_images='./maps/*.png', save_file_path='./maps/pedestrian_heatmap.gif', duration=500)"
   ]
  },
  {
   "cell_type": "code",
   "execution_count": null,
   "id": "94f99d92",
   "metadata": {},
   "outputs": [],
   "source": []
  }
 ],
 "metadata": {
  "kernelspec": {
   "display_name": "Python 3",
   "language": "python",
   "name": "python3"
  },
  "language_info": {
   "codemirror_mode": {
    "name": "ipython",
    "version": 3
   },
   "file_extension": ".py",
   "mimetype": "text/x-python",
   "name": "python",
   "nbconvert_exporter": "python",
   "pygments_lexer": "ipython3",
   "version": "3.8.8"
  }
 },
 "nbformat": 4,
 "nbformat_minor": 5
}
